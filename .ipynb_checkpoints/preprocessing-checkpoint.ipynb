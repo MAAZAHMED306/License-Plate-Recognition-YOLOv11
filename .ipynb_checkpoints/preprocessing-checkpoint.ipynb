{
 "cells": [
  {
   "cell_type": "code",
   "execution_count": 1,
   "id": "ae12a426-54eb-467f-8cae-0585fd8625c9",
   "metadata": {},
   "outputs": [],
   "source": [
    "from sklearn.model_selection import train_test_split\n",
    "import cv2\n",
    "import os\n",
    "import yaml"
   ]
  },
  {
   "cell_type": "code",
   "execution_count": 2,
   "id": "9d88cd19-866b-4f38-a864-d38c6885bbf8",
   "metadata": {},
   "outputs": [],
   "source": [
    "root_dir = \"datasets/car-number-plate/\"\n",
    "valid_formats = [\".jpg\", \".jpeg\", \".png\", \".txt\"]\n",
    "\n",
    "def file_paths(root, valid_formats):\n",
    "    \"get the full path to each image/label in the dataset\"\n",
    "    file_paths = []\n",
    "    for dirpath, dirnames, filenames in os.walk(root):\n",
    "        for filename in filenames:\n",
    "            extension = os.path.splitext(filename)[1].lower()\n",
    "            if extension in valid_formats:\n",
    "                file_path = os.path.join(dirpath, filename)\n",
    "                file_paths.append(file_path)\n",
    "    return file_paths\n"
   ]
  },
  {
   "cell_type": "code",
   "execution_count": 3,
   "id": "ce1e0207-2887-46a3-bffa-6f8bc38cff12",
   "metadata": {},
   "outputs": [],
   "source": [
    "image_paths = file_paths(root_dir + \"images\", valid_formats[:3])\n",
    "label_paths = file_paths(root_dir + \"labels\", valid_formats[-1])"
   ]
  },
  {
   "cell_type": "code",
   "execution_count": 4,
   "id": "a43190cb-04d1-438d-bdb7-6be1f86e09d2",
   "metadata": {},
   "outputs": [],
   "source": [
    "X_train, X_val_test, y_train, y_val_test = train_test_split(image_paths, label_paths, test_size=0.3, random_state=42)\n",
    "X_val, X_test, y_val, y_test = train_test_split(X_val_test, y_val_test, test_size=0.7, random_state=42)"
   ]
  },
  {
   "cell_type": "code",
   "execution_count": 5,
   "id": "69b409d5-f8d6-4e5c-a46e-765e5c539ff7",
   "metadata": {},
   "outputs": [],
   "source": [
    "def write_to_file(images_path, labels_path, X):\n",
    "    os.makedirs(images_path, exist_ok=True)\n",
    "    os.makedirs(labels_path, exist_ok=True)\n",
    "\n",
    "    for img_path in X:\n",
    "        img_name = os.path.splitext(os.path.basename(img_path))[0]\n",
    "        img_ext = os.path.splitext(img_path)[1]\n",
    "\n",
    "        # Copy image\n",
    "        image = cv2.imread(img_path)\n",
    "        cv2.imwrite(os.path.join(images_path, f\"{img_name}{img_ext}\"), image)\n",
    "\n",
    "        # Find corresponding label file\n",
    "        label_file_path = os.path.join(root_dir, \"labels\", f\"{img_name}.txt\")\n",
    "        if os.path.exists(label_file_path):\n",
    "            with open(label_file_path, \"r\") as label_file:\n",
    "                label_data = label_file.read()\n",
    "            with open(os.path.join(labels_path, f\"{img_name}.txt\"), \"w\") as f:\n",
    "                f.write(label_data)\n",
    "        else:\n",
    "            print(f\"Label file not found for image: {img_name}\")\n"
   ]
  },
  {
   "cell_type": "code",
   "execution_count": 6,
   "id": "13ced37d-3938-4efb-8f79-44d36101a366",
   "metadata": {},
   "outputs": [],
   "source": [
    "write_to_file(\"datasets/images/train\", \"datasets/labels/train\", X_train)\n",
    "write_to_file(\"datasets/images/valid\", \"datasets/labels/valid\", X_val)\n",
    "write_to_file(\"datasets/images/test\", \"datasets/labels/test\", X_test)"
   ]
  },
  {
   "cell_type": "code",
   "execution_count": 7,
   "id": "9b3f078a-30e4-46ea-9e85-a76327c43bdd",
   "metadata": {},
   "outputs": [],
   "source": [
    "data = {\n",
    "    \"path\": \"../datasets\",\n",
    "    \"train\": \"images/train\",\n",
    "    \"val\": \"images/valid\",\n",
    "    \"test\": \"images/test\",\n",
    "    \"names\": [\"number plate\"]\n",
    "}\n",
    "\n",
    "with open(\"number-plate.yaml\", \"w\") as f:\n",
    "    yaml.dump(data, f)\n"
   ]
  },
  {
   "cell_type": "code",
   "execution_count": 8,
   "id": "c459a576-8a90-41e4-8f9e-f7aa3b3f3f6b",
   "metadata": {},
   "outputs": [],
   "source": [
    "# conda activate numberplate"
   ]
  },
  {
   "cell_type": "code",
   "execution_count": 9,
   "id": "739feed2-053b-4959-be5c-95696426739f",
   "metadata": {},
   "outputs": [],
   "source": [
    "# yolo detect train data=number-plate.yaml model=yolov8n.pt epochs=50 imgsz=640"
   ]
  },
  {
   "cell_type": "code",
   "execution_count": 20,
   "id": "5c3db54b-a23e-4969-8475-cd9092db2066",
   "metadata": {},
   "outputs": [
    {
     "name": "stdout",
     "output_type": "stream",
     "text": [
      "Creating new Ultralytics Settings v0.0.6 file  \n",
      "View Ultralytics Settings with 'yolo settings' or at 'C:\\Users\\MAAZ\\AppData\\Roaming\\Ultralytics\\settings.json'\n",
      "Update Settings with 'yolo settings key=value', i.e. 'yolo settings runs_dir=path/to/dir'. For help see https://docs.ultralytics.com/quickstart/#ultralytics-settings.\n"
     ]
    }
   ],
   "source": [
    "from ultralytics import YOLO"
   ]
  },
  {
   "cell_type": "code",
   "execution_count": 22,
   "id": "ea7b9437-914d-43ca-b0ad-da7bf6fd6ee5",
   "metadata": {},
   "outputs": [
    {
     "name": "stdout",
     "output_type": "stream",
     "text": [
      "Downloading https://github.com/ultralytics/assets/releases/download/v8.3.0/yolov8n.pt to 'yolov8n.pt'...\n"
     ]
    },
    {
     "name": "stderr",
     "output_type": "stream",
     "text": [
      "100%|██████████| 6.25M/6.25M [00:02<00:00, 2.39MB/s]\n"
     ]
    }
   ],
   "source": [
    "# Load a pretrained YOLOv8n model\n",
    "model = YOLO('yolov8n.pt')"
   ]
  },
  {
   "cell_type": "code",
   "execution_count": 24,
   "id": "53c58daf-edd1-4edb-8a5f-97f5eb6cad1c",
   "metadata": {
    "scrolled": true
   },
   "outputs": [
    {
     "name": "stdout",
     "output_type": "stream",
     "text": [
      "New https://pypi.org/project/ultralytics/8.3.118 available  Update with 'pip install -U ultralytics'\n",
      "Ultralytics 8.3.105  Python-3.12.7 torch-2.6.0+cpu CPU (Intel Core(TM) i5-4690 3.50GHz)\n",
      "\u001b[34m\u001b[1mengine\\trainer: \u001b[0mtask=detect, mode=train, model=yolov8n.pt, data=number-plate.yaml, epochs=50, time=None, patience=100, batch=16, imgsz=640, save=True, save_period=-1, cache=False, device=None, workers=8, project=None, name=train2, exist_ok=False, pretrained=True, optimizer=auto, verbose=True, seed=0, deterministic=True, single_cls=False, rect=False, cos_lr=False, close_mosaic=10, resume=False, amp=True, fraction=1.0, profile=False, freeze=None, multi_scale=False, overlap_mask=True, mask_ratio=4, dropout=0.0, val=True, split=val, save_json=False, conf=None, iou=0.7, max_det=300, half=False, dnn=False, plots=True, source=None, vid_stride=1, stream_buffer=False, visualize=False, augment=False, agnostic_nms=False, classes=None, retina_masks=False, embed=None, show=False, save_frames=False, save_txt=False, save_conf=False, save_crop=False, show_labels=True, show_conf=True, show_boxes=True, line_width=None, format=torchscript, keras=False, optimize=False, int8=False, dynamic=False, simplify=True, opset=None, workspace=None, nms=False, lr0=0.01, lrf=0.01, momentum=0.937, weight_decay=0.0005, warmup_epochs=3.0, warmup_momentum=0.8, warmup_bias_lr=0.1, box=7.5, cls=0.5, dfl=1.5, pose=12.0, kobj=1.0, nbs=64, hsv_h=0.015, hsv_s=0.7, hsv_v=0.4, degrees=0.0, translate=0.1, scale=0.5, shear=0.0, perspective=0.0, flipud=0.0, fliplr=0.5, bgr=0.0, mosaic=1.0, mixup=0.0, copy_paste=0.0, copy_paste_mode=flip, auto_augment=randaugment, erasing=0.4, crop_fraction=1.0, cfg=None, tracker=botsort.yaml, save_dir=runs\\detect\\train2\n",
      "Downloading https://ultralytics.com/assets/Arial.ttf to 'C:\\Users\\MAAZ\\AppData\\Roaming\\Ultralytics\\Arial.ttf'...\n"
     ]
    },
    {
     "name": "stderr",
     "output_type": "stream",
     "text": [
      "100%|██████████| 755k/755k [00:00<00:00, 1.36MB/s]"
     ]
    },
    {
     "name": "stdout",
     "output_type": "stream",
     "text": [
      "Overriding model.yaml nc=80 with nc=1\n",
      "\n",
      "                   from  n    params  module                                       arguments                     \n"
     ]
    },
    {
     "name": "stderr",
     "output_type": "stream",
     "text": [
      "\n"
     ]
    },
    {
     "name": "stdout",
     "output_type": "stream",
     "text": [
      "  0                  -1  1       464  ultralytics.nn.modules.conv.Conv             [3, 16, 3, 2]                 \n",
      "  1                  -1  1      4672  ultralytics.nn.modules.conv.Conv             [16, 32, 3, 2]                \n",
      "  2                  -1  1      7360  ultralytics.nn.modules.block.C2f             [32, 32, 1, True]             \n",
      "  3                  -1  1     18560  ultralytics.nn.modules.conv.Conv             [32, 64, 3, 2]                \n",
      "  4                  -1  2     49664  ultralytics.nn.modules.block.C2f             [64, 64, 2, True]             \n",
      "  5                  -1  1     73984  ultralytics.nn.modules.conv.Conv             [64, 128, 3, 2]               \n",
      "  6                  -1  2    197632  ultralytics.nn.modules.block.C2f             [128, 128, 2, True]           \n",
      "  7                  -1  1    295424  ultralytics.nn.modules.conv.Conv             [128, 256, 3, 2]              \n",
      "  8                  -1  1    460288  ultralytics.nn.modules.block.C2f             [256, 256, 1, True]           \n",
      "  9                  -1  1    164608  ultralytics.nn.modules.block.SPPF            [256, 256, 5]                 \n",
      " 10                  -1  1         0  torch.nn.modules.upsampling.Upsample         [None, 2, 'nearest']          \n",
      " 11             [-1, 6]  1         0  ultralytics.nn.modules.conv.Concat           [1]                           \n",
      " 12                  -1  1    148224  ultralytics.nn.modules.block.C2f             [384, 128, 1]                 \n",
      " 13                  -1  1         0  torch.nn.modules.upsampling.Upsample         [None, 2, 'nearest']          \n",
      " 14             [-1, 4]  1         0  ultralytics.nn.modules.conv.Concat           [1]                           \n",
      " 15                  -1  1     37248  ultralytics.nn.modules.block.C2f             [192, 64, 1]                  \n",
      " 16                  -1  1     36992  ultralytics.nn.modules.conv.Conv             [64, 64, 3, 2]                \n",
      " 17            [-1, 12]  1         0  ultralytics.nn.modules.conv.Concat           [1]                           \n",
      " 18                  -1  1    123648  ultralytics.nn.modules.block.C2f             [192, 128, 1]                 \n",
      " 19                  -1  1    147712  ultralytics.nn.modules.conv.Conv             [128, 128, 3, 2]              \n",
      " 20             [-1, 9]  1         0  ultralytics.nn.modules.conv.Concat           [1]                           \n",
      " 21                  -1  1    493056  ultralytics.nn.modules.block.C2f             [384, 256, 1]                 \n",
      " 22        [15, 18, 21]  1    751507  ultralytics.nn.modules.head.Detect           [1, [64, 128, 256]]           \n",
      "Model summary: 129 layers, 3,011,043 parameters, 3,011,027 gradients, 8.2 GFLOPs\n",
      "\n",
      "Transferred 319/355 items from pretrained weights\n",
      "Freezing layer 'model.22.dfl.conv.weight'\n"
     ]
    },
    {
     "name": "stderr",
     "output_type": "stream",
     "text": [
      "\u001b[34m\u001b[1mtrain: \u001b[0mScanning C:\\Users\\MAAZ\\Source-Code\\datasets\\labels\\train... 252 images, 0 backgrounds, 0 corrupt: 100%|██████████| 252/252 [00:01<00:00, 212.19it/s]"
     ]
    },
    {
     "name": "stdout",
     "output_type": "stream",
     "text": [
      "\u001b[34m\u001b[1mtrain: \u001b[0mNew cache created: C:\\Users\\MAAZ\\Source-Code\\datasets\\labels\\train.cache\n"
     ]
    },
    {
     "name": "stderr",
     "output_type": "stream",
     "text": [
      "\n",
      "\u001b[34m\u001b[1mval: \u001b[0mScanning C:\\Users\\MAAZ\\Source-Code\\datasets\\labels\\valid... 49 images, 0 backgrounds, 0 corrupt: 100%|██████████| 49/49 [00:00<00:00, 217.72it/s]"
     ]
    },
    {
     "name": "stdout",
     "output_type": "stream",
     "text": [
      "\u001b[34m\u001b[1mval: \u001b[0mNew cache created: C:\\Users\\MAAZ\\Source-Code\\datasets\\labels\\valid.cache\n"
     ]
    },
    {
     "name": "stderr",
     "output_type": "stream",
     "text": [
      "\n"
     ]
    },
    {
     "name": "stdout",
     "output_type": "stream",
     "text": [
      "Plotting labels to runs\\detect\\train2\\labels.jpg... \n",
      "\u001b[34m\u001b[1moptimizer:\u001b[0m 'optimizer=auto' found, ignoring 'lr0=0.01' and 'momentum=0.937' and determining best 'optimizer', 'lr0' and 'momentum' automatically... \n",
      "\u001b[34m\u001b[1moptimizer:\u001b[0m AdamW(lr=0.002, momentum=0.9) with parameter groups 57 weight(decay=0.0), 64 weight(decay=0.0005), 63 bias(decay=0.0)\n",
      "Image sizes 640 train, 640 val\n",
      "Using 0 dataloader workers\n",
      "Logging results to \u001b[1mruns\\detect\\train2\u001b[0m\n",
      "Starting training for 50 epochs...\n",
      "\n",
      "      Epoch    GPU_mem   box_loss   cls_loss   dfl_loss  Instances       Size\n"
     ]
    },
    {
     "name": "stderr",
     "output_type": "stream",
     "text": [
      "       1/50         0G      1.288      3.094      1.234         74        640: 100%|██████████| 16/16 [01:31<00:00,  5.74s/it]\n",
      "                 Class     Images  Instances      Box(P          R      mAP50  mAP50-95): 100%|██████████| 2/2 [00:06<00:00,  3.35s/it]"
     ]
    },
    {
     "name": "stdout",
     "output_type": "stream",
     "text": [
      "                   all         49        158    0.00327      0.304      0.233      0.158\n"
     ]
    },
    {
     "name": "stderr",
     "output_type": "stream",
     "text": [
      "\n"
     ]
    },
    {
     "name": "stdout",
     "output_type": "stream",
     "text": [
      "\n",
      "      Epoch    GPU_mem   box_loss   cls_loss   dfl_loss  Instances       Size\n"
     ]
    },
    {
     "name": "stderr",
     "output_type": "stream",
     "text": [
      "       2/50         0G      1.278      1.955      1.043         37        640: 100%|██████████| 16/16 [01:31<00:00,  5.71s/it]\n",
      "                 Class     Images  Instances      Box(P          R      mAP50  mAP50-95): 100%|██████████| 2/2 [00:05<00:00,  2.86s/it]"
     ]
    },
    {
     "name": "stdout",
     "output_type": "stream",
     "text": [
      "                   all         49        158      0.967      0.133      0.203      0.122\n"
     ]
    },
    {
     "name": "stderr",
     "output_type": "stream",
     "text": [
      "\n"
     ]
    },
    {
     "name": "stdout",
     "output_type": "stream",
     "text": [
      "\n",
      "      Epoch    GPU_mem   box_loss   cls_loss   dfl_loss  Instances       Size\n"
     ]
    },
    {
     "name": "stderr",
     "output_type": "stream",
     "text": [
      "       3/50         0G      1.321       1.68      1.079         32        640: 100%|██████████| 16/16 [01:33<00:00,  5.85s/it]\n",
      "                 Class     Images  Instances      Box(P          R      mAP50  mAP50-95): 100%|██████████| 2/2 [00:05<00:00,  2.82s/it]"
     ]
    },
    {
     "name": "stdout",
     "output_type": "stream",
     "text": [
      "                   all         49        158          1     0.0502      0.111     0.0542\n"
     ]
    },
    {
     "name": "stderr",
     "output_type": "stream",
     "text": [
      "\n"
     ]
    },
    {
     "name": "stdout",
     "output_type": "stream",
     "text": [
      "\n",
      "      Epoch    GPU_mem   box_loss   cls_loss   dfl_loss  Instances       Size\n"
     ]
    },
    {
     "name": "stderr",
     "output_type": "stream",
     "text": [
      "       4/50         0G      1.309      1.563      1.078         66        640: 100%|██████████| 16/16 [01:35<00:00,  5.95s/it]\n",
      "                 Class     Images  Instances      Box(P          R      mAP50  mAP50-95): 100%|██████████| 2/2 [00:05<00:00,  2.99s/it]"
     ]
    },
    {
     "name": "stdout",
     "output_type": "stream",
     "text": [
      "                   all         49        158      0.569      0.152      0.197      0.135\n"
     ]
    },
    {
     "name": "stderr",
     "output_type": "stream",
     "text": [
      "\n"
     ]
    },
    {
     "name": "stdout",
     "output_type": "stream",
     "text": [
      "\n",
      "      Epoch    GPU_mem   box_loss   cls_loss   dfl_loss  Instances       Size\n"
     ]
    },
    {
     "name": "stderr",
     "output_type": "stream",
     "text": [
      "       5/50         0G      1.285      1.477       1.07         65        640: 100%|██████████| 16/16 [01:32<00:00,  5.78s/it]\n",
      "                 Class     Images  Instances      Box(P          R      mAP50  mAP50-95): 100%|██████████| 2/2 [00:05<00:00,  2.88s/it]"
     ]
    },
    {
     "name": "stdout",
     "output_type": "stream",
     "text": [
      "                   all         49        158      0.627      0.222      0.224      0.149\n"
     ]
    },
    {
     "name": "stderr",
     "output_type": "stream",
     "text": [
      "\n"
     ]
    },
    {
     "name": "stdout",
     "output_type": "stream",
     "text": [
      "\n",
      "      Epoch    GPU_mem   box_loss   cls_loss   dfl_loss  Instances       Size\n"
     ]
    },
    {
     "name": "stderr",
     "output_type": "stream",
     "text": [
      "       6/50         0G      1.384      1.372      1.086         57        640: 100%|██████████| 16/16 [01:29<00:00,  5.58s/it]\n",
      "                 Class     Images  Instances      Box(P          R      mAP50  mAP50-95): 100%|██████████| 2/2 [00:06<00:00,  3.15s/it]"
     ]
    },
    {
     "name": "stdout",
     "output_type": "stream",
     "text": [
      "                   all         49        158      0.649      0.228      0.237      0.123\n"
     ]
    },
    {
     "name": "stderr",
     "output_type": "stream",
     "text": [
      "\n"
     ]
    },
    {
     "name": "stdout",
     "output_type": "stream",
     "text": [
      "\n",
      "      Epoch    GPU_mem   box_loss   cls_loss   dfl_loss  Instances       Size\n"
     ]
    },
    {
     "name": "stderr",
     "output_type": "stream",
     "text": [
      "       7/50         0G      1.403      1.363      1.087         38        640: 100%|██████████| 16/16 [01:31<00:00,  5.69s/it]\n",
      "                 Class     Images  Instances      Box(P          R      mAP50  mAP50-95): 100%|██████████| 2/2 [00:05<00:00,  2.96s/it]"
     ]
    },
    {
     "name": "stdout",
     "output_type": "stream",
     "text": [
      "                   all         49        158      0.801       0.28      0.375      0.225\n"
     ]
    },
    {
     "name": "stderr",
     "output_type": "stream",
     "text": [
      "\n"
     ]
    },
    {
     "name": "stdout",
     "output_type": "stream",
     "text": [
      "\n",
      "      Epoch    GPU_mem   box_loss   cls_loss   dfl_loss  Instances       Size\n"
     ]
    },
    {
     "name": "stderr",
     "output_type": "stream",
     "text": [
      "       8/50         0G      1.315       1.28      1.064         42        640: 100%|██████████| 16/16 [01:33<00:00,  5.87s/it]\n",
      "                 Class     Images  Instances      Box(P          R      mAP50  mAP50-95): 100%|██████████| 2/2 [00:06<00:00,  3.05s/it]"
     ]
    },
    {
     "name": "stdout",
     "output_type": "stream",
     "text": [
      "                   all         49        158      0.649      0.434       0.44      0.245\n"
     ]
    },
    {
     "name": "stderr",
     "output_type": "stream",
     "text": [
      "\n"
     ]
    },
    {
     "name": "stdout",
     "output_type": "stream",
     "text": [
      "\n",
      "      Epoch    GPU_mem   box_loss   cls_loss   dfl_loss  Instances       Size\n"
     ]
    },
    {
     "name": "stderr",
     "output_type": "stream",
     "text": [
      "       9/50         0G       1.28      1.248       1.06         48        640: 100%|██████████| 16/16 [01:31<00:00,  5.71s/it]\n",
      "                 Class     Images  Instances      Box(P          R      mAP50  mAP50-95): 100%|██████████| 2/2 [00:05<00:00,  2.95s/it]"
     ]
    },
    {
     "name": "stdout",
     "output_type": "stream",
     "text": [
      "                   all         49        158      0.674      0.471      0.522      0.304\n"
     ]
    },
    {
     "name": "stderr",
     "output_type": "stream",
     "text": [
      "\n"
     ]
    },
    {
     "name": "stdout",
     "output_type": "stream",
     "text": [
      "\n",
      "      Epoch    GPU_mem   box_loss   cls_loss   dfl_loss  Instances       Size\n"
     ]
    },
    {
     "name": "stderr",
     "output_type": "stream",
     "text": [
      "      10/50         0G      1.199       1.11      1.041         33        640: 100%|██████████| 16/16 [01:27<00:00,  5.49s/it]\n",
      "                 Class     Images  Instances      Box(P          R      mAP50  mAP50-95): 100%|██████████| 2/2 [00:05<00:00,  2.79s/it]"
     ]
    },
    {
     "name": "stdout",
     "output_type": "stream",
     "text": [
      "                   all         49        158      0.708      0.437      0.479      0.284\n"
     ]
    },
    {
     "name": "stderr",
     "output_type": "stream",
     "text": [
      "\n"
     ]
    },
    {
     "name": "stdout",
     "output_type": "stream",
     "text": [
      "\n",
      "      Epoch    GPU_mem   box_loss   cls_loss   dfl_loss  Instances       Size\n"
     ]
    },
    {
     "name": "stderr",
     "output_type": "stream",
     "text": [
      "      11/50         0G      1.147      1.012      1.018         74        640: 100%|██████████| 16/16 [01:27<00:00,  5.49s/it]\n",
      "                 Class     Images  Instances      Box(P          R      mAP50  mAP50-95): 100%|██████████| 2/2 [00:05<00:00,  2.80s/it]"
     ]
    },
    {
     "name": "stdout",
     "output_type": "stream",
     "text": [
      "                   all         49        158      0.645      0.525      0.541      0.312\n"
     ]
    },
    {
     "name": "stderr",
     "output_type": "stream",
     "text": [
      "\n"
     ]
    },
    {
     "name": "stdout",
     "output_type": "stream",
     "text": [
      "\n",
      "      Epoch    GPU_mem   box_loss   cls_loss   dfl_loss  Instances       Size\n"
     ]
    },
    {
     "name": "stderr",
     "output_type": "stream",
     "text": [
      "      12/50         0G      1.114     0.9793      1.013         63        640: 100%|██████████| 16/16 [01:28<00:00,  5.53s/it]\n",
      "                 Class     Images  Instances      Box(P          R      mAP50  mAP50-95): 100%|██████████| 2/2 [00:05<00:00,  2.82s/it]"
     ]
    },
    {
     "name": "stdout",
     "output_type": "stream",
     "text": [
      "                   all         49        158      0.853      0.506       0.59      0.355\n"
     ]
    },
    {
     "name": "stderr",
     "output_type": "stream",
     "text": [
      "\n"
     ]
    },
    {
     "name": "stdout",
     "output_type": "stream",
     "text": [
      "\n",
      "      Epoch    GPU_mem   box_loss   cls_loss   dfl_loss  Instances       Size\n"
     ]
    },
    {
     "name": "stderr",
     "output_type": "stream",
     "text": [
      "      13/50         0G      1.193     0.9802      1.002         34        640: 100%|██████████| 16/16 [01:29<00:00,  5.58s/it]\n",
      "                 Class     Images  Instances      Box(P          R      mAP50  mAP50-95): 100%|██████████| 2/2 [00:05<00:00,  2.80s/it]"
     ]
    },
    {
     "name": "stdout",
     "output_type": "stream",
     "text": [
      "                   all         49        158      0.807       0.62      0.706      0.404\n"
     ]
    },
    {
     "name": "stderr",
     "output_type": "stream",
     "text": [
      "\n"
     ]
    },
    {
     "name": "stdout",
     "output_type": "stream",
     "text": [
      "\n",
      "      Epoch    GPU_mem   box_loss   cls_loss   dfl_loss  Instances       Size\n"
     ]
    },
    {
     "name": "stderr",
     "output_type": "stream",
     "text": [
      "      14/50         0G      1.111     0.9182      0.999         82        640: 100%|██████████| 16/16 [01:31<00:00,  5.73s/it]\n",
      "                 Class     Images  Instances      Box(P          R      mAP50  mAP50-95): 100%|██████████| 2/2 [00:05<00:00,  2.79s/it]"
     ]
    },
    {
     "name": "stdout",
     "output_type": "stream",
     "text": [
      "                   all         49        158      0.702       0.62      0.668      0.393\n"
     ]
    },
    {
     "name": "stderr",
     "output_type": "stream",
     "text": [
      "\n"
     ]
    },
    {
     "name": "stdout",
     "output_type": "stream",
     "text": [
      "\n",
      "      Epoch    GPU_mem   box_loss   cls_loss   dfl_loss  Instances       Size\n"
     ]
    },
    {
     "name": "stderr",
     "output_type": "stream",
     "text": [
      "      15/50         0G      1.166     0.9249      1.029         41        640: 100%|██████████| 16/16 [01:26<00:00,  5.42s/it]\n",
      "                 Class     Images  Instances      Box(P          R      mAP50  mAP50-95): 100%|██████████| 2/2 [00:05<00:00,  2.92s/it]"
     ]
    },
    {
     "name": "stdout",
     "output_type": "stream",
     "text": [
      "                   all         49        158      0.818      0.614      0.698        0.4\n"
     ]
    },
    {
     "name": "stderr",
     "output_type": "stream",
     "text": [
      "\n"
     ]
    },
    {
     "name": "stdout",
     "output_type": "stream",
     "text": [
      "\n",
      "      Epoch    GPU_mem   box_loss   cls_loss   dfl_loss  Instances       Size\n"
     ]
    },
    {
     "name": "stderr",
     "output_type": "stream",
     "text": [
      "      16/50         0G      1.135     0.8846      1.016         58        640: 100%|██████████| 16/16 [01:28<00:00,  5.55s/it]\n",
      "                 Class     Images  Instances      Box(P          R      mAP50  mAP50-95): 100%|██████████| 2/2 [00:05<00:00,  2.82s/it]"
     ]
    },
    {
     "name": "stdout",
     "output_type": "stream",
     "text": [
      "                   all         49        158      0.869      0.628      0.707      0.404\n"
     ]
    },
    {
     "name": "stderr",
     "output_type": "stream",
     "text": [
      "\n"
     ]
    },
    {
     "name": "stdout",
     "output_type": "stream",
     "text": [
      "\n",
      "      Epoch    GPU_mem   box_loss   cls_loss   dfl_loss  Instances       Size\n"
     ]
    },
    {
     "name": "stderr",
     "output_type": "stream",
     "text": [
      "      17/50         0G      1.093      0.846       0.97         72        640: 100%|██████████| 16/16 [01:28<00:00,  5.53s/it]\n",
      "                 Class     Images  Instances      Box(P          R      mAP50  mAP50-95): 100%|██████████| 2/2 [00:05<00:00,  2.82s/it]"
     ]
    },
    {
     "name": "stdout",
     "output_type": "stream",
     "text": [
      "                   all         49        158      0.845      0.621      0.716      0.412\n"
     ]
    },
    {
     "name": "stderr",
     "output_type": "stream",
     "text": [
      "\n"
     ]
    },
    {
     "name": "stdout",
     "output_type": "stream",
     "text": [
      "\n",
      "      Epoch    GPU_mem   box_loss   cls_loss   dfl_loss  Instances       Size\n"
     ]
    },
    {
     "name": "stderr",
     "output_type": "stream",
     "text": [
      "      18/50         0G      1.052     0.7715     0.9814         56        640: 100%|██████████| 16/16 [01:31<00:00,  5.70s/it]\n",
      "                 Class     Images  Instances      Box(P          R      mAP50  mAP50-95): 100%|██████████| 2/2 [00:05<00:00,  2.76s/it]"
     ]
    },
    {
     "name": "stdout",
     "output_type": "stream",
     "text": [
      "                   all         49        158      0.818      0.652      0.725      0.441\n"
     ]
    },
    {
     "name": "stderr",
     "output_type": "stream",
     "text": [
      "\n"
     ]
    },
    {
     "name": "stdout",
     "output_type": "stream",
     "text": [
      "\n",
      "      Epoch    GPU_mem   box_loss   cls_loss   dfl_loss  Instances       Size\n"
     ]
    },
    {
     "name": "stderr",
     "output_type": "stream",
     "text": [
      "      19/50         0G      1.031     0.7885      0.984         83        640: 100%|██████████| 16/16 [01:47<00:00,  6.69s/it]\n",
      "                 Class     Images  Instances      Box(P          R      mAP50  mAP50-95): 100%|██████████| 2/2 [00:05<00:00,  2.96s/it]"
     ]
    },
    {
     "name": "stdout",
     "output_type": "stream",
     "text": [
      "                   all         49        158      0.929       0.62      0.743      0.439\n"
     ]
    },
    {
     "name": "stderr",
     "output_type": "stream",
     "text": [
      "\n"
     ]
    },
    {
     "name": "stdout",
     "output_type": "stream",
     "text": [
      "\n",
      "      Epoch    GPU_mem   box_loss   cls_loss   dfl_loss  Instances       Size\n"
     ]
    },
    {
     "name": "stderr",
     "output_type": "stream",
     "text": [
      "      20/50         0G      1.061     0.7782     0.9811         81        640: 100%|██████████| 16/16 [01:31<00:00,  5.70s/it]\n",
      "                 Class     Images  Instances      Box(P          R      mAP50  mAP50-95): 100%|██████████| 2/2 [00:05<00:00,  2.91s/it]"
     ]
    },
    {
     "name": "stdout",
     "output_type": "stream",
     "text": [
      "                   all         49        158      0.863      0.639      0.745      0.451\n"
     ]
    },
    {
     "name": "stderr",
     "output_type": "stream",
     "text": [
      "\n"
     ]
    },
    {
     "name": "stdout",
     "output_type": "stream",
     "text": [
      "\n",
      "      Epoch    GPU_mem   box_loss   cls_loss   dfl_loss  Instances       Size\n"
     ]
    },
    {
     "name": "stderr",
     "output_type": "stream",
     "text": [
      "      21/50         0G      1.048     0.7357     0.9562         52        640: 100%|██████████| 16/16 [01:31<00:00,  5.72s/it]\n",
      "                 Class     Images  Instances      Box(P          R      mAP50  mAP50-95): 100%|██████████| 2/2 [00:05<00:00,  2.89s/it]"
     ]
    },
    {
     "name": "stdout",
     "output_type": "stream",
     "text": [
      "                   all         49        158      0.822      0.703      0.784      0.455\n"
     ]
    },
    {
     "name": "stderr",
     "output_type": "stream",
     "text": [
      "\n"
     ]
    },
    {
     "name": "stdout",
     "output_type": "stream",
     "text": [
      "\n",
      "      Epoch    GPU_mem   box_loss   cls_loss   dfl_loss  Instances       Size\n"
     ]
    },
    {
     "name": "stderr",
     "output_type": "stream",
     "text": [
      "      22/50         0G      1.043     0.7485     0.9633         52        640: 100%|██████████| 16/16 [01:37<00:00,  6.11s/it]\n",
      "                 Class     Images  Instances      Box(P          R      mAP50  mAP50-95): 100%|██████████| 2/2 [00:06<00:00,  3.01s/it]"
     ]
    },
    {
     "name": "stdout",
     "output_type": "stream",
     "text": [
      "                   all         49        158      0.816      0.722       0.79      0.474\n"
     ]
    },
    {
     "name": "stderr",
     "output_type": "stream",
     "text": [
      "\n"
     ]
    },
    {
     "name": "stdout",
     "output_type": "stream",
     "text": [
      "\n",
      "      Epoch    GPU_mem   box_loss   cls_loss   dfl_loss  Instances       Size\n"
     ]
    },
    {
     "name": "stderr",
     "output_type": "stream",
     "text": [
      "      23/50         0G     0.9751     0.6911     0.9496         40        640: 100%|██████████| 16/16 [01:46<00:00,  6.66s/it]\n",
      "                 Class     Images  Instances      Box(P          R      mAP50  mAP50-95): 100%|██████████| 2/2 [00:05<00:00,  2.93s/it]"
     ]
    },
    {
     "name": "stdout",
     "output_type": "stream",
     "text": [
      "                   all         49        158      0.793      0.741      0.797      0.478\n"
     ]
    },
    {
     "name": "stderr",
     "output_type": "stream",
     "text": [
      "\n"
     ]
    },
    {
     "name": "stdout",
     "output_type": "stream",
     "text": [
      "\n",
      "      Epoch    GPU_mem   box_loss   cls_loss   dfl_loss  Instances       Size\n"
     ]
    },
    {
     "name": "stderr",
     "output_type": "stream",
     "text": [
      "      24/50         0G      0.989     0.6979     0.9766         35        640: 100%|██████████| 16/16 [01:44<00:00,  6.50s/it]\n",
      "                 Class     Images  Instances      Box(P          R      mAP50  mAP50-95): 100%|██████████| 2/2 [00:06<00:00,  3.08s/it]"
     ]
    },
    {
     "name": "stdout",
     "output_type": "stream",
     "text": [
      "                   all         49        158      0.824      0.712      0.767      0.451\n"
     ]
    },
    {
     "name": "stderr",
     "output_type": "stream",
     "text": [
      "\n"
     ]
    },
    {
     "name": "stdout",
     "output_type": "stream",
     "text": [
      "\n",
      "      Epoch    GPU_mem   box_loss   cls_loss   dfl_loss  Instances       Size\n"
     ]
    },
    {
     "name": "stderr",
     "output_type": "stream",
     "text": [
      "      25/50         0G     0.9732     0.6895     0.9651         24        640: 100%|██████████| 16/16 [01:38<00:00,  6.13s/it]\n",
      "                 Class     Images  Instances      Box(P          R      mAP50  mAP50-95): 100%|██████████| 2/2 [00:06<00:00,  3.14s/it]"
     ]
    },
    {
     "name": "stdout",
     "output_type": "stream",
     "text": [
      "                   all         49        158       0.77      0.709      0.755       0.44\n"
     ]
    },
    {
     "name": "stderr",
     "output_type": "stream",
     "text": [
      "\n"
     ]
    },
    {
     "name": "stdout",
     "output_type": "stream",
     "text": [
      "\n",
      "      Epoch    GPU_mem   box_loss   cls_loss   dfl_loss  Instances       Size\n"
     ]
    },
    {
     "name": "stderr",
     "output_type": "stream",
     "text": [
      "      26/50         0G     0.9373     0.6601      0.977         39        640: 100%|██████████| 16/16 [01:33<00:00,  5.86s/it]\n",
      "                 Class     Images  Instances      Box(P          R      mAP50  mAP50-95): 100%|██████████| 2/2 [00:06<00:00,  3.02s/it]"
     ]
    },
    {
     "name": "stdout",
     "output_type": "stream",
     "text": [
      "                   all         49        158      0.841      0.738      0.796      0.477\n"
     ]
    },
    {
     "name": "stderr",
     "output_type": "stream",
     "text": [
      "\n"
     ]
    },
    {
     "name": "stdout",
     "output_type": "stream",
     "text": [
      "\n",
      "      Epoch    GPU_mem   box_loss   cls_loss   dfl_loss  Instances       Size\n"
     ]
    },
    {
     "name": "stderr",
     "output_type": "stream",
     "text": [
      "      27/50         0G     0.9751     0.6567     0.9652         35        640: 100%|██████████| 16/16 [01:35<00:00,  5.98s/it]\n",
      "                 Class     Images  Instances      Box(P          R      mAP50  mAP50-95): 100%|██████████| 2/2 [00:05<00:00,  2.98s/it]"
     ]
    },
    {
     "name": "stdout",
     "output_type": "stream",
     "text": [
      "                   all         49        158       0.87       0.72       0.82      0.476\n"
     ]
    },
    {
     "name": "stderr",
     "output_type": "stream",
     "text": [
      "\n"
     ]
    },
    {
     "name": "stdout",
     "output_type": "stream",
     "text": [
      "\n",
      "      Epoch    GPU_mem   box_loss   cls_loss   dfl_loss  Instances       Size\n"
     ]
    },
    {
     "name": "stderr",
     "output_type": "stream",
     "text": [
      "      28/50         0G     0.9537     0.6399     0.9429         42        640: 100%|██████████| 16/16 [01:31<00:00,  5.74s/it]\n",
      "                 Class     Images  Instances      Box(P          R      mAP50  mAP50-95): 100%|██████████| 2/2 [00:05<00:00,  2.79s/it]"
     ]
    },
    {
     "name": "stdout",
     "output_type": "stream",
     "text": [
      "                   all         49        158      0.829      0.736      0.806      0.491\n"
     ]
    },
    {
     "name": "stderr",
     "output_type": "stream",
     "text": [
      "\n"
     ]
    },
    {
     "name": "stdout",
     "output_type": "stream",
     "text": [
      "\n",
      "      Epoch    GPU_mem   box_loss   cls_loss   dfl_loss  Instances       Size\n"
     ]
    },
    {
     "name": "stderr",
     "output_type": "stream",
     "text": [
      "      29/50         0G     0.9133     0.6184     0.9296         64        640: 100%|██████████| 16/16 [01:26<00:00,  5.40s/it]\n",
      "                 Class     Images  Instances      Box(P          R      mAP50  mAP50-95): 100%|██████████| 2/2 [00:05<00:00,  2.78s/it]"
     ]
    },
    {
     "name": "stdout",
     "output_type": "stream",
     "text": [
      "                   all         49        158      0.893      0.739      0.826      0.482\n"
     ]
    },
    {
     "name": "stderr",
     "output_type": "stream",
     "text": [
      "\n"
     ]
    },
    {
     "name": "stdout",
     "output_type": "stream",
     "text": [
      "\n",
      "      Epoch    GPU_mem   box_loss   cls_loss   dfl_loss  Instances       Size\n"
     ]
    },
    {
     "name": "stderr",
     "output_type": "stream",
     "text": [
      "      30/50         0G     0.8928     0.6145     0.9565         87        640: 100%|██████████| 16/16 [01:26<00:00,  5.39s/it]\n",
      "                 Class     Images  Instances      Box(P          R      mAP50  mAP50-95): 100%|██████████| 2/2 [00:05<00:00,  2.86s/it]"
     ]
    },
    {
     "name": "stdout",
     "output_type": "stream",
     "text": [
      "                   all         49        158      0.859      0.695      0.774      0.483\n"
     ]
    },
    {
     "name": "stderr",
     "output_type": "stream",
     "text": [
      "\n"
     ]
    },
    {
     "name": "stdout",
     "output_type": "stream",
     "text": [
      "\n",
      "      Epoch    GPU_mem   box_loss   cls_loss   dfl_loss  Instances       Size\n"
     ]
    },
    {
     "name": "stderr",
     "output_type": "stream",
     "text": [
      "      31/50         0G     0.8905     0.5919     0.9316         37        640: 100%|██████████| 16/16 [01:27<00:00,  5.46s/it]\n",
      "                 Class     Images  Instances      Box(P          R      mAP50  mAP50-95): 100%|██████████| 2/2 [00:05<00:00,  2.89s/it]"
     ]
    },
    {
     "name": "stdout",
     "output_type": "stream",
     "text": [
      "                   all         49        158      0.883      0.665      0.792       0.47\n"
     ]
    },
    {
     "name": "stderr",
     "output_type": "stream",
     "text": [
      "\n"
     ]
    },
    {
     "name": "stdout",
     "output_type": "stream",
     "text": [
      "\n",
      "      Epoch    GPU_mem   box_loss   cls_loss   dfl_loss  Instances       Size\n"
     ]
    },
    {
     "name": "stderr",
     "output_type": "stream",
     "text": [
      "      32/50         0G      0.887     0.5931     0.9167         42        640: 100%|██████████| 16/16 [01:25<00:00,  5.37s/it]\n",
      "                 Class     Images  Instances      Box(P          R      mAP50  mAP50-95): 100%|██████████| 2/2 [00:05<00:00,  2.80s/it]"
     ]
    },
    {
     "name": "stdout",
     "output_type": "stream",
     "text": [
      "                   all         49        158       0.87      0.722      0.808      0.496\n"
     ]
    },
    {
     "name": "stderr",
     "output_type": "stream",
     "text": [
      "\n"
     ]
    },
    {
     "name": "stdout",
     "output_type": "stream",
     "text": [
      "\n",
      "      Epoch    GPU_mem   box_loss   cls_loss   dfl_loss  Instances       Size\n"
     ]
    },
    {
     "name": "stderr",
     "output_type": "stream",
     "text": [
      "      33/50         0G     0.8581     0.5808     0.9511         25        640: 100%|██████████| 16/16 [01:25<00:00,  5.36s/it]\n",
      "                 Class     Images  Instances      Box(P          R      mAP50  mAP50-95): 100%|██████████| 2/2 [00:05<00:00,  2.74s/it]"
     ]
    },
    {
     "name": "stdout",
     "output_type": "stream",
     "text": [
      "                   all         49        158       0.85      0.747      0.832      0.488\n"
     ]
    },
    {
     "name": "stderr",
     "output_type": "stream",
     "text": [
      "\n"
     ]
    },
    {
     "name": "stdout",
     "output_type": "stream",
     "text": [
      "\n",
      "      Epoch    GPU_mem   box_loss   cls_loss   dfl_loss  Instances       Size\n"
     ]
    },
    {
     "name": "stderr",
     "output_type": "stream",
     "text": [
      "      34/50         0G     0.9064     0.5936     0.9277         64        640: 100%|██████████| 16/16 [01:27<00:00,  5.45s/it]\n",
      "                 Class     Images  Instances      Box(P          R      mAP50  mAP50-95): 100%|██████████| 2/2 [00:05<00:00,  2.85s/it]"
     ]
    },
    {
     "name": "stdout",
     "output_type": "stream",
     "text": [
      "                   all         49        158      0.882      0.753      0.847      0.516\n"
     ]
    },
    {
     "name": "stderr",
     "output_type": "stream",
     "text": [
      "\n"
     ]
    },
    {
     "name": "stdout",
     "output_type": "stream",
     "text": [
      "\n",
      "      Epoch    GPU_mem   box_loss   cls_loss   dfl_loss  Instances       Size\n"
     ]
    },
    {
     "name": "stderr",
     "output_type": "stream",
     "text": [
      "      35/50         0G     0.8622     0.5693     0.9158         47        640: 100%|██████████| 16/16 [01:26<00:00,  5.42s/it]\n",
      "                 Class     Images  Instances      Box(P          R      mAP50  mAP50-95): 100%|██████████| 2/2 [00:05<00:00,  2.86s/it]"
     ]
    },
    {
     "name": "stdout",
     "output_type": "stream",
     "text": [
      "                   all         49        158      0.863      0.734      0.833      0.533\n"
     ]
    },
    {
     "name": "stderr",
     "output_type": "stream",
     "text": [
      "\n"
     ]
    },
    {
     "name": "stdout",
     "output_type": "stream",
     "text": [
      "\n",
      "      Epoch    GPU_mem   box_loss   cls_loss   dfl_loss  Instances       Size\n"
     ]
    },
    {
     "name": "stderr",
     "output_type": "stream",
     "text": [
      "      36/50         0G     0.8557     0.5574      0.909         67        640: 100%|██████████| 16/16 [01:28<00:00,  5.51s/it]\n",
      "                 Class     Images  Instances      Box(P          R      mAP50  mAP50-95): 100%|██████████| 2/2 [00:05<00:00,  2.95s/it]"
     ]
    },
    {
     "name": "stdout",
     "output_type": "stream",
     "text": [
      "                   all         49        158      0.918      0.777      0.836      0.527\n"
     ]
    },
    {
     "name": "stderr",
     "output_type": "stream",
     "text": [
      "\n"
     ]
    },
    {
     "name": "stdout",
     "output_type": "stream",
     "text": [
      "\n",
      "      Epoch    GPU_mem   box_loss   cls_loss   dfl_loss  Instances       Size\n"
     ]
    },
    {
     "name": "stderr",
     "output_type": "stream",
     "text": [
      "      37/50         0G     0.7851     0.5207      0.919         70        640: 100%|██████████| 16/16 [01:26<00:00,  5.42s/it]\n",
      "                 Class     Images  Instances      Box(P          R      mAP50  mAP50-95): 100%|██████████| 2/2 [00:05<00:00,  2.72s/it]"
     ]
    },
    {
     "name": "stdout",
     "output_type": "stream",
     "text": [
      "                   all         49        158      0.917      0.768       0.85      0.546\n"
     ]
    },
    {
     "name": "stderr",
     "output_type": "stream",
     "text": [
      "\n"
     ]
    },
    {
     "name": "stdout",
     "output_type": "stream",
     "text": [
      "\n",
      "      Epoch    GPU_mem   box_loss   cls_loss   dfl_loss  Instances       Size\n"
     ]
    },
    {
     "name": "stderr",
     "output_type": "stream",
     "text": [
      "      38/50         0G     0.8105     0.5423     0.9178         53        640: 100%|██████████| 16/16 [01:27<00:00,  5.44s/it]\n",
      "                 Class     Images  Instances      Box(P          R      mAP50  mAP50-95): 100%|██████████| 2/2 [00:05<00:00,  2.62s/it]"
     ]
    },
    {
     "name": "stdout",
     "output_type": "stream",
     "text": [
      "                   all         49        158      0.908       0.75      0.828      0.526\n",
      "\n",
      "      Epoch    GPU_mem   box_loss   cls_loss   dfl_loss  Instances       Size\n"
     ]
    },
    {
     "name": "stderr",
     "output_type": "stream",
     "text": [
      "\n",
      "      39/50         0G     0.8404     0.5383      0.908         40        640: 100%|██████████| 16/16 [01:26<00:00,  5.43s/it]\n",
      "                 Class     Images  Instances      Box(P          R      mAP50  mAP50-95): 100%|██████████| 2/2 [00:05<00:00,  2.67s/it]"
     ]
    },
    {
     "name": "stdout",
     "output_type": "stream",
     "text": [
      "                   all         49        158      0.882      0.756      0.849      0.537\n",
      "\n",
      "      Epoch    GPU_mem   box_loss   cls_loss   dfl_loss  Instances       Size\n"
     ]
    },
    {
     "name": "stderr",
     "output_type": "stream",
     "text": [
      "\n",
      "      40/50         0G     0.8319     0.5367     0.9309         52        640: 100%|██████████| 16/16 [01:26<00:00,  5.39s/it]\n",
      "                 Class     Images  Instances      Box(P          R      mAP50  mAP50-95): 100%|██████████| 2/2 [00:05<00:00,  2.72s/it]"
     ]
    },
    {
     "name": "stdout",
     "output_type": "stream",
     "text": [
      "                   all         49        158      0.919      0.741       0.83      0.538\n"
     ]
    },
    {
     "name": "stderr",
     "output_type": "stream",
     "text": [
      "\n"
     ]
    },
    {
     "name": "stdout",
     "output_type": "stream",
     "text": [
      "Closing dataloader mosaic\n",
      "\n",
      "      Epoch    GPU_mem   box_loss   cls_loss   dfl_loss  Instances       Size\n"
     ]
    },
    {
     "name": "stderr",
     "output_type": "stream",
     "text": [
      "      41/50         0G     0.8419     0.5544      0.903         12        640: 100%|██████████| 16/16 [01:30<00:00,  5.64s/it]\n",
      "                 Class     Images  Instances      Box(P          R      mAP50  mAP50-95): 100%|██████████| 2/2 [00:05<00:00,  2.93s/it]"
     ]
    },
    {
     "name": "stdout",
     "output_type": "stream",
     "text": [
      "                   all         49        158      0.906      0.772      0.824      0.526\n"
     ]
    },
    {
     "name": "stderr",
     "output_type": "stream",
     "text": [
      "\n"
     ]
    },
    {
     "name": "stdout",
     "output_type": "stream",
     "text": [
      "\n",
      "      Epoch    GPU_mem   box_loss   cls_loss   dfl_loss  Instances       Size\n"
     ]
    },
    {
     "name": "stderr",
     "output_type": "stream",
     "text": [
      "      42/50         0G     0.8746     0.5519     0.8891         26        640: 100%|██████████| 16/16 [01:33<00:00,  5.86s/it]\n",
      "                 Class     Images  Instances      Box(P          R      mAP50  mAP50-95): 100%|██████████| 2/2 [00:05<00:00,  2.63s/it]"
     ]
    },
    {
     "name": "stdout",
     "output_type": "stream",
     "text": [
      "                   all         49        158      0.915      0.745      0.835      0.534\n",
      "\n",
      "      Epoch    GPU_mem   box_loss   cls_loss   dfl_loss  Instances       Size\n"
     ]
    },
    {
     "name": "stderr",
     "output_type": "stream",
     "text": [
      "\n",
      "      43/50         0G     0.7803     0.5086     0.8639         37        640: 100%|██████████| 16/16 [01:26<00:00,  5.40s/it]\n",
      "                 Class     Images  Instances      Box(P          R      mAP50  mAP50-95): 100%|██████████| 2/2 [00:05<00:00,  2.81s/it]"
     ]
    },
    {
     "name": "stdout",
     "output_type": "stream",
     "text": [
      "                   all         49        158      0.887      0.722      0.817      0.529\n"
     ]
    },
    {
     "name": "stderr",
     "output_type": "stream",
     "text": [
      "\n"
     ]
    },
    {
     "name": "stdout",
     "output_type": "stream",
     "text": [
      "\n",
      "      Epoch    GPU_mem   box_loss   cls_loss   dfl_loss  Instances       Size\n"
     ]
    },
    {
     "name": "stderr",
     "output_type": "stream",
     "text": [
      "      44/50         0G      0.765     0.4987     0.8784         39        640: 100%|██████████| 16/16 [5:29:42<00:00, 1236.41s/it]  \n",
      "                 Class     Images  Instances      Box(P          R      mAP50  mAP50-95): 100%|██████████| 2/2 [00:06<00:00,  3.16s/it]"
     ]
    },
    {
     "name": "stdout",
     "output_type": "stream",
     "text": [
      "                   all         49        158      0.916      0.722      0.807      0.521\n"
     ]
    },
    {
     "name": "stderr",
     "output_type": "stream",
     "text": [
      "\n"
     ]
    },
    {
     "name": "stdout",
     "output_type": "stream",
     "text": [
      "\n",
      "      Epoch    GPU_mem   box_loss   cls_loss   dfl_loss  Instances       Size\n"
     ]
    },
    {
     "name": "stderr",
     "output_type": "stream",
     "text": [
      "      45/50         0G     0.7502       0.49     0.8636         63        640: 100%|██████████| 16/16 [01:32<00:00,  5.81s/it]\n",
      "                 Class     Images  Instances      Box(P          R      mAP50  mAP50-95): 100%|██████████| 2/2 [00:05<00:00,  2.91s/it]"
     ]
    },
    {
     "name": "stdout",
     "output_type": "stream",
     "text": [
      "                   all         49        158      0.894      0.749      0.823      0.545\n"
     ]
    },
    {
     "name": "stderr",
     "output_type": "stream",
     "text": [
      "\n"
     ]
    },
    {
     "name": "stdout",
     "output_type": "stream",
     "text": [
      "\n",
      "      Epoch    GPU_mem   box_loss   cls_loss   dfl_loss  Instances       Size\n"
     ]
    },
    {
     "name": "stderr",
     "output_type": "stream",
     "text": [
      "      46/50         0G     0.7471     0.4839     0.8612         33        640: 100%|██████████| 16/16 [01:31<00:00,  5.72s/it]\n",
      "                 Class     Images  Instances      Box(P          R      mAP50  mAP50-95): 100%|██████████| 2/2 [00:05<00:00,  2.76s/it]"
     ]
    },
    {
     "name": "stdout",
     "output_type": "stream",
     "text": [
      "                   all         49        158      0.904      0.778      0.843       0.55\n"
     ]
    },
    {
     "name": "stderr",
     "output_type": "stream",
     "text": [
      "\n"
     ]
    },
    {
     "name": "stdout",
     "output_type": "stream",
     "text": [
      "\n",
      "      Epoch    GPU_mem   box_loss   cls_loss   dfl_loss  Instances       Size\n"
     ]
    },
    {
     "name": "stderr",
     "output_type": "stream",
     "text": [
      "      47/50         0G     0.7052     0.4736     0.8737         34        640: 100%|██████████| 16/16 [01:32<00:00,  5.78s/it]\n",
      "                 Class     Images  Instances      Box(P          R      mAP50  mAP50-95): 100%|██████████| 2/2 [00:06<00:00,  3.06s/it]"
     ]
    },
    {
     "name": "stdout",
     "output_type": "stream",
     "text": [
      "                   all         49        158      0.907      0.801      0.847      0.549\n"
     ]
    },
    {
     "name": "stderr",
     "output_type": "stream",
     "text": [
      "\n"
     ]
    },
    {
     "name": "stdout",
     "output_type": "stream",
     "text": [
      "\n",
      "      Epoch    GPU_mem   box_loss   cls_loss   dfl_loss  Instances       Size\n"
     ]
    },
    {
     "name": "stderr",
     "output_type": "stream",
     "text": [
      "      48/50         0G     0.6936     0.4526     0.8475         21        640: 100%|██████████| 16/16 [01:30<00:00,  5.66s/it]\n",
      "                 Class     Images  Instances      Box(P          R      mAP50  mAP50-95): 100%|██████████| 2/2 [00:05<00:00,  2.64s/it]"
     ]
    },
    {
     "name": "stdout",
     "output_type": "stream",
     "text": [
      "                   all         49        158      0.906      0.791      0.855      0.561\n"
     ]
    },
    {
     "name": "stderr",
     "output_type": "stream",
     "text": [
      "\n"
     ]
    },
    {
     "name": "stdout",
     "output_type": "stream",
     "text": [
      "\n",
      "      Epoch    GPU_mem   box_loss   cls_loss   dfl_loss  Instances       Size\n"
     ]
    },
    {
     "name": "stderr",
     "output_type": "stream",
     "text": [
      "      49/50         0G     0.6689     0.4549     0.8593         24        640: 100%|██████████| 16/16 [01:47<00:00,  6.73s/it]\n",
      "                 Class     Images  Instances      Box(P          R      mAP50  mAP50-95): 100%|██████████| 2/2 [00:07<00:00,  3.60s/it]"
     ]
    },
    {
     "name": "stdout",
     "output_type": "stream",
     "text": [
      "                   all         49        158      0.905      0.785      0.857      0.558\n"
     ]
    },
    {
     "name": "stderr",
     "output_type": "stream",
     "text": [
      "\n"
     ]
    },
    {
     "name": "stdout",
     "output_type": "stream",
     "text": [
      "\n",
      "      Epoch    GPU_mem   box_loss   cls_loss   dfl_loss  Instances       Size\n"
     ]
    },
    {
     "name": "stderr",
     "output_type": "stream",
     "text": [
      "      50/50         0G     0.6795     0.4554     0.8435         12        640: 100%|██████████| 16/16 [01:40<00:00,  6.29s/it]\n",
      "                 Class     Images  Instances      Box(P          R      mAP50  mAP50-95): 100%|██████████| 2/2 [00:05<00:00,  2.76s/it]"
     ]
    },
    {
     "name": "stdout",
     "output_type": "stream",
     "text": [
      "                   all         49        158      0.912      0.791      0.852      0.562\n"
     ]
    },
    {
     "name": "stderr",
     "output_type": "stream",
     "text": [
      "\n"
     ]
    },
    {
     "name": "stdout",
     "output_type": "stream",
     "text": [
      "\n",
      "50 epochs completed in 6.828 hours.\n",
      "Optimizer stripped from runs\\detect\\train2\\weights\\last.pt, 6.2MB\n",
      "Optimizer stripped from runs\\detect\\train2\\weights\\best.pt, 6.2MB\n",
      "\n",
      "Validating runs\\detect\\train2\\weights\\best.pt...\n",
      "Ultralytics 8.3.105  Python-3.12.7 torch-2.6.0+cpu CPU (Intel Core(TM) i5-4690 3.50GHz)\n",
      "Model summary (fused): 72 layers, 3,005,843 parameters, 0 gradients, 8.1 GFLOPs\n"
     ]
    },
    {
     "name": "stderr",
     "output_type": "stream",
     "text": [
      "                 Class     Images  Instances      Box(P          R      mAP50  mAP50-95): 100%|██████████| 2/2 [00:04<00:00,  2.30s/it]\n"
     ]
    },
    {
     "name": "stdout",
     "output_type": "stream",
     "text": [
      "                   all         49        158      0.912      0.791      0.852      0.563\n",
      "Speed: 1.9ms preprocess, 79.9ms inference, 0.0ms loss, 0.4ms postprocess per image\n",
      "Results saved to \u001b[1mruns\\detect\\train2\u001b[0m\n"
     ]
    },
    {
     "data": {
      "text/plain": [
       "ultralytics.utils.metrics.DetMetrics object with attributes:\n",
       "\n",
       "ap_class_index: array([0])\n",
       "box: ultralytics.utils.metrics.Metric object\n",
       "confusion_matrix: <ultralytics.utils.metrics.ConfusionMatrix object at 0x000001C72529FC20>\n",
       "curves: ['Precision-Recall(B)', 'F1-Confidence(B)', 'Precision-Confidence(B)', 'Recall-Confidence(B)']\n",
       "curves_results: [[array([          0,    0.001001,    0.002002,    0.003003,    0.004004,    0.005005,    0.006006,    0.007007,    0.008008,    0.009009,     0.01001,    0.011011,    0.012012,    0.013013,    0.014014,    0.015015,    0.016016,    0.017017,    0.018018,    0.019019,     0.02002,    0.021021,    0.022022,    0.023023,\n",
       "          0.024024,    0.025025,    0.026026,    0.027027,    0.028028,    0.029029,     0.03003,    0.031031,    0.032032,    0.033033,    0.034034,    0.035035,    0.036036,    0.037037,    0.038038,    0.039039,     0.04004,    0.041041,    0.042042,    0.043043,    0.044044,    0.045045,    0.046046,    0.047047,\n",
       "          0.048048,    0.049049,     0.05005,    0.051051,    0.052052,    0.053053,    0.054054,    0.055055,    0.056056,    0.057057,    0.058058,    0.059059,     0.06006,    0.061061,    0.062062,    0.063063,    0.064064,    0.065065,    0.066066,    0.067067,    0.068068,    0.069069,     0.07007,    0.071071,\n",
       "          0.072072,    0.073073,    0.074074,    0.075075,    0.076076,    0.077077,    0.078078,    0.079079,     0.08008,    0.081081,    0.082082,    0.083083,    0.084084,    0.085085,    0.086086,    0.087087,    0.088088,    0.089089,     0.09009,    0.091091,    0.092092,    0.093093,    0.094094,    0.095095,\n",
       "          0.096096,    0.097097,    0.098098,    0.099099,      0.1001,      0.1011,      0.1021,      0.1031,      0.1041,     0.10511,     0.10611,     0.10711,     0.10811,     0.10911,     0.11011,     0.11111,     0.11211,     0.11311,     0.11411,     0.11512,     0.11612,     0.11712,     0.11812,     0.11912,\n",
       "           0.12012,     0.12112,     0.12212,     0.12312,     0.12412,     0.12513,     0.12613,     0.12713,     0.12813,     0.12913,     0.13013,     0.13113,     0.13213,     0.13313,     0.13413,     0.13514,     0.13614,     0.13714,     0.13814,     0.13914,     0.14014,     0.14114,     0.14214,     0.14314,\n",
       "           0.14414,     0.14515,     0.14615,     0.14715,     0.14815,     0.14915,     0.15015,     0.15115,     0.15215,     0.15315,     0.15415,     0.15516,     0.15616,     0.15716,     0.15816,     0.15916,     0.16016,     0.16116,     0.16216,     0.16316,     0.16416,     0.16517,     0.16617,     0.16717,\n",
       "           0.16817,     0.16917,     0.17017,     0.17117,     0.17217,     0.17317,     0.17417,     0.17518,     0.17618,     0.17718,     0.17818,     0.17918,     0.18018,     0.18118,     0.18218,     0.18318,     0.18418,     0.18519,     0.18619,     0.18719,     0.18819,     0.18919,     0.19019,     0.19119,\n",
       "           0.19219,     0.19319,     0.19419,      0.1952,      0.1962,      0.1972,      0.1982,      0.1992,      0.2002,      0.2012,      0.2022,      0.2032,      0.2042,     0.20521,     0.20621,     0.20721,     0.20821,     0.20921,     0.21021,     0.21121,     0.21221,     0.21321,     0.21421,     0.21522,\n",
       "           0.21622,     0.21722,     0.21822,     0.21922,     0.22022,     0.22122,     0.22222,     0.22322,     0.22422,     0.22523,     0.22623,     0.22723,     0.22823,     0.22923,     0.23023,     0.23123,     0.23223,     0.23323,     0.23423,     0.23524,     0.23624,     0.23724,     0.23824,     0.23924,\n",
       "           0.24024,     0.24124,     0.24224,     0.24324,     0.24424,     0.24525,     0.24625,     0.24725,     0.24825,     0.24925,     0.25025,     0.25125,     0.25225,     0.25325,     0.25425,     0.25526,     0.25626,     0.25726,     0.25826,     0.25926,     0.26026,     0.26126,     0.26226,     0.26326,\n",
       "           0.26426,     0.26527,     0.26627,     0.26727,     0.26827,     0.26927,     0.27027,     0.27127,     0.27227,     0.27327,     0.27427,     0.27528,     0.27628,     0.27728,     0.27828,     0.27928,     0.28028,     0.28128,     0.28228,     0.28328,     0.28428,     0.28529,     0.28629,     0.28729,\n",
       "           0.28829,     0.28929,     0.29029,     0.29129,     0.29229,     0.29329,     0.29429,      0.2953,      0.2963,      0.2973,      0.2983,      0.2993,      0.3003,      0.3013,      0.3023,      0.3033,      0.3043,     0.30531,     0.30631,     0.30731,     0.30831,     0.30931,     0.31031,     0.31131,\n",
       "           0.31231,     0.31331,     0.31431,     0.31532,     0.31632,     0.31732,     0.31832,     0.31932,     0.32032,     0.32132,     0.32232,     0.32332,     0.32432,     0.32533,     0.32633,     0.32733,     0.32833,     0.32933,     0.33033,     0.33133,     0.33233,     0.33333,     0.33433,     0.33534,\n",
       "           0.33634,     0.33734,     0.33834,     0.33934,     0.34034,     0.34134,     0.34234,     0.34334,     0.34434,     0.34535,     0.34635,     0.34735,     0.34835,     0.34935,     0.35035,     0.35135,     0.35235,     0.35335,     0.35435,     0.35536,     0.35636,     0.35736,     0.35836,     0.35936,\n",
       "           0.36036,     0.36136,     0.36236,     0.36336,     0.36436,     0.36537,     0.36637,     0.36737,     0.36837,     0.36937,     0.37037,     0.37137,     0.37237,     0.37337,     0.37437,     0.37538,     0.37638,     0.37738,     0.37838,     0.37938,     0.38038,     0.38138,     0.38238,     0.38338,\n",
       "           0.38438,     0.38539,     0.38639,     0.38739,     0.38839,     0.38939,     0.39039,     0.39139,     0.39239,     0.39339,     0.39439,      0.3954,      0.3964,      0.3974,      0.3984,      0.3994,      0.4004,      0.4014,      0.4024,      0.4034,      0.4044,     0.40541,     0.40641,     0.40741,\n",
       "           0.40841,     0.40941,     0.41041,     0.41141,     0.41241,     0.41341,     0.41441,     0.41542,     0.41642,     0.41742,     0.41842,     0.41942,     0.42042,     0.42142,     0.42242,     0.42342,     0.42442,     0.42543,     0.42643,     0.42743,     0.42843,     0.42943,     0.43043,     0.43143,\n",
       "           0.43243,     0.43343,     0.43443,     0.43544,     0.43644,     0.43744,     0.43844,     0.43944,     0.44044,     0.44144,     0.44244,     0.44344,     0.44444,     0.44545,     0.44645,     0.44745,     0.44845,     0.44945,     0.45045,     0.45145,     0.45245,     0.45345,     0.45445,     0.45546,\n",
       "           0.45646,     0.45746,     0.45846,     0.45946,     0.46046,     0.46146,     0.46246,     0.46346,     0.46446,     0.46547,     0.46647,     0.46747,     0.46847,     0.46947,     0.47047,     0.47147,     0.47247,     0.47347,     0.47447,     0.47548,     0.47648,     0.47748,     0.47848,     0.47948,\n",
       "           0.48048,     0.48148,     0.48248,     0.48348,     0.48448,     0.48549,     0.48649,     0.48749,     0.48849,     0.48949,     0.49049,     0.49149,     0.49249,     0.49349,     0.49449,      0.4955,      0.4965,      0.4975,      0.4985,      0.4995,      0.5005,      0.5015,      0.5025,      0.5035,\n",
       "            0.5045,     0.50551,     0.50651,     0.50751,     0.50851,     0.50951,     0.51051,     0.51151,     0.51251,     0.51351,     0.51451,     0.51552,     0.51652,     0.51752,     0.51852,     0.51952,     0.52052,     0.52152,     0.52252,     0.52352,     0.52452,     0.52553,     0.52653,     0.52753,\n",
       "           0.52853,     0.52953,     0.53053,     0.53153,     0.53253,     0.53353,     0.53453,     0.53554,     0.53654,     0.53754,     0.53854,     0.53954,     0.54054,     0.54154,     0.54254,     0.54354,     0.54454,     0.54555,     0.54655,     0.54755,     0.54855,     0.54955,     0.55055,     0.55155,\n",
       "           0.55255,     0.55355,     0.55455,     0.55556,     0.55656,     0.55756,     0.55856,     0.55956,     0.56056,     0.56156,     0.56256,     0.56356,     0.56456,     0.56557,     0.56657,     0.56757,     0.56857,     0.56957,     0.57057,     0.57157,     0.57257,     0.57357,     0.57457,     0.57558,\n",
       "           0.57658,     0.57758,     0.57858,     0.57958,     0.58058,     0.58158,     0.58258,     0.58358,     0.58458,     0.58559,     0.58659,     0.58759,     0.58859,     0.58959,     0.59059,     0.59159,     0.59259,     0.59359,     0.59459,      0.5956,      0.5966,      0.5976,      0.5986,      0.5996,\n",
       "            0.6006,      0.6016,      0.6026,      0.6036,      0.6046,     0.60561,     0.60661,     0.60761,     0.60861,     0.60961,     0.61061,     0.61161,     0.61261,     0.61361,     0.61461,     0.61562,     0.61662,     0.61762,     0.61862,     0.61962,     0.62062,     0.62162,     0.62262,     0.62362,\n",
       "           0.62462,     0.62563,     0.62663,     0.62763,     0.62863,     0.62963,     0.63063,     0.63163,     0.63263,     0.63363,     0.63463,     0.63564,     0.63664,     0.63764,     0.63864,     0.63964,     0.64064,     0.64164,     0.64264,     0.64364,     0.64464,     0.64565,     0.64665,     0.64765,\n",
       "           0.64865,     0.64965,     0.65065,     0.65165,     0.65265,     0.65365,     0.65465,     0.65566,     0.65666,     0.65766,     0.65866,     0.65966,     0.66066,     0.66166,     0.66266,     0.66366,     0.66466,     0.66567,     0.66667,     0.66767,     0.66867,     0.66967,     0.67067,     0.67167,\n",
       "           0.67267,     0.67367,     0.67467,     0.67568,     0.67668,     0.67768,     0.67868,     0.67968,     0.68068,     0.68168,     0.68268,     0.68368,     0.68468,     0.68569,     0.68669,     0.68769,     0.68869,     0.68969,     0.69069,     0.69169,     0.69269,     0.69369,     0.69469,      0.6957,\n",
       "            0.6967,      0.6977,      0.6987,      0.6997,      0.7007,      0.7017,      0.7027,      0.7037,      0.7047,     0.70571,     0.70671,     0.70771,     0.70871,     0.70971,     0.71071,     0.71171,     0.71271,     0.71371,     0.71471,     0.71572,     0.71672,     0.71772,     0.71872,     0.71972,\n",
       "           0.72072,     0.72172,     0.72272,     0.72372,     0.72472,     0.72573,     0.72673,     0.72773,     0.72873,     0.72973,     0.73073,     0.73173,     0.73273,     0.73373,     0.73473,     0.73574,     0.73674,     0.73774,     0.73874,     0.73974,     0.74074,     0.74174,     0.74274,     0.74374,\n",
       "           0.74474,     0.74575,     0.74675,     0.74775,     0.74875,     0.74975,     0.75075,     0.75175,     0.75275,     0.75375,     0.75475,     0.75576,     0.75676,     0.75776,     0.75876,     0.75976,     0.76076,     0.76176,     0.76276,     0.76376,     0.76476,     0.76577,     0.76677,     0.76777,\n",
       "           0.76877,     0.76977,     0.77077,     0.77177,     0.77277,     0.77377,     0.77477,     0.77578,     0.77678,     0.77778,     0.77878,     0.77978,     0.78078,     0.78178,     0.78278,     0.78378,     0.78478,     0.78579,     0.78679,     0.78779,     0.78879,     0.78979,     0.79079,     0.79179,\n",
       "           0.79279,     0.79379,     0.79479,      0.7958,      0.7968,      0.7978,      0.7988,      0.7998,      0.8008,      0.8018,      0.8028,      0.8038,      0.8048,     0.80581,     0.80681,     0.80781,     0.80881,     0.80981,     0.81081,     0.81181,     0.81281,     0.81381,     0.81481,     0.81582,\n",
       "           0.81682,     0.81782,     0.81882,     0.81982,     0.82082,     0.82182,     0.82282,     0.82382,     0.82482,     0.82583,     0.82683,     0.82783,     0.82883,     0.82983,     0.83083,     0.83183,     0.83283,     0.83383,     0.83483,     0.83584,     0.83684,     0.83784,     0.83884,     0.83984,\n",
       "           0.84084,     0.84184,     0.84284,     0.84384,     0.84484,     0.84585,     0.84685,     0.84785,     0.84885,     0.84985,     0.85085,     0.85185,     0.85285,     0.85385,     0.85485,     0.85586,     0.85686,     0.85786,     0.85886,     0.85986,     0.86086,     0.86186,     0.86286,     0.86386,\n",
       "           0.86486,     0.86587,     0.86687,     0.86787,     0.86887,     0.86987,     0.87087,     0.87187,     0.87287,     0.87387,     0.87487,     0.87588,     0.87688,     0.87788,     0.87888,     0.87988,     0.88088,     0.88188,     0.88288,     0.88388,     0.88488,     0.88589,     0.88689,     0.88789,\n",
       "           0.88889,     0.88989,     0.89089,     0.89189,     0.89289,     0.89389,     0.89489,      0.8959,      0.8969,      0.8979,      0.8989,      0.8999,      0.9009,      0.9019,      0.9029,      0.9039,      0.9049,     0.90591,     0.90691,     0.90791,     0.90891,     0.90991,     0.91091,     0.91191,\n",
       "           0.91291,     0.91391,     0.91491,     0.91592,     0.91692,     0.91792,     0.91892,     0.91992,     0.92092,     0.92192,     0.92292,     0.92392,     0.92492,     0.92593,     0.92693,     0.92793,     0.92893,     0.92993,     0.93093,     0.93193,     0.93293,     0.93393,     0.93493,     0.93594,\n",
       "           0.93694,     0.93794,     0.93894,     0.93994,     0.94094,     0.94194,     0.94294,     0.94394,     0.94494,     0.94595,     0.94695,     0.94795,     0.94895,     0.94995,     0.95095,     0.95195,     0.95295,     0.95395,     0.95495,     0.95596,     0.95696,     0.95796,     0.95896,     0.95996,\n",
       "           0.96096,     0.96196,     0.96296,     0.96396,     0.96496,     0.96597,     0.96697,     0.96797,     0.96897,     0.96997,     0.97097,     0.97197,     0.97297,     0.97397,     0.97497,     0.97598,     0.97698,     0.97798,     0.97898,     0.97998,     0.98098,     0.98198,     0.98298,     0.98398,\n",
       "           0.98498,     0.98599,     0.98699,     0.98799,     0.98899,     0.98999,     0.99099,     0.99199,     0.99299,     0.99399,     0.99499,       0.996,       0.997,       0.998,       0.999,           1]), array([[          1,           1,           1,           1,           1,           1,           1,           1,           1,           1,           1,           1,           1,           1,           1,           1,           1,           1,           1,           1,           1,           1,           1,\n",
       "                  1,           1,           1,           1,           1,           1,           1,           1,           1,           1,           1,           1,           1,           1,           1,           1,           1,           1,           1,           1,           1,           1,           1,\n",
       "                  1,           1,           1,           1,           1,           1,           1,           1,           1,           1,           1,           1,           1,           1,           1,           1,           1,           1,           1,           1,           1,           1,           1,\n",
       "                  1,           1,           1,           1,           1,           1,           1,           1,           1,           1,           1,           1,           1,           1,           1,           1,           1,           1,           1,           1,           1,           1,           1,\n",
       "                  1,           1,           1,           1,           1,           1,           1,           1,           1,           1,           1,           1,           1,           1,           1,           1,           1,           1,           1,           1,           1,           1,           1,\n",
       "                  1,           1,           1,           1,           1,           1,           1,           1,           1,           1,           1,           1,           1,           1,           1,           1,           1,           1,           1,           1,           1,           1,           1,\n",
       "                  1,           1,           1,           1,           1,           1,           1,           1,           1,           1,           1,           1,           1,           1,           1,           1,           1,           1,           1,           1,           1,           1,           1,\n",
       "                  1,           1,           1,           1,           1,           1,           1,           1,           1,           1,           1,           1,           1,           1,           1,           1,           1,           1,           1,           1,           1,           1,           1,\n",
       "                  1,           1,           1,           1,           1,           1,           1,           1,           1,           1,           1,           1,           1,           1,           1,           1,           1,           1,           1,           1,           1,           1,           1,\n",
       "                  1,           1,           1,           1,           1,           1,           1,           1,           1,           1,           1,           1,           1,           1,           1,           1,           1,           1,           1,           1,           1,           1,           1,\n",
       "                  1,           1,           1,           1,           1,           1,           1,           1,           1,           1,           1,           1,           1,           1,           1,           1,           1,           1,           1,           1,           1,           1,           1,\n",
       "                  1,           1,           1,           1,           1,           1,           1,           1,           1,           1,           1,           1,           1,           1,           1,           1,           1,           1,           1,           1,           1,           1,           1,\n",
       "                  1,           1,           1,           1,           1,           1,           1,           1,           1,           1,           1,           1,           1,           1,           1,           1,           1,           1,           1,           1,           1,           1,           1,\n",
       "                  1,           1,           1,           1,           1,           1,           1,           1,           1,           1,           1,           1,           1,           1,           1,           1,           1,           1,           1,           1,           1,           1,           1,\n",
       "                  1,           1,           1,           1,           1,           1,           1,           1,           1,           1,           1,           1,           1,           1,           1,           1,           1,           1,           1,           1,           1,           1,           1,\n",
       "                  1,           1,           1,           1,           1,           1,           1,           1,           1,           1,           1,           1,           1,           1,           1,           1,           1,           1,           1,           1,           1,           1,           1,\n",
       "                  1,           1,           1,           1,           1,           1,           1,           1,           1,           1,           1,           1,           1,           1,           1,           1,           1,           1,           1,           1,           1,           1,           1,\n",
       "                  1,           1,           1,           1,           1,           1,           1,           1,           1,           1,           1,           1,           1,           1,           1,           1,           1,           1,           1,           1,           1,           1,           1,\n",
       "                  1,           1,           1,           1,           1,           1,           1,           1,           1,           1,           1,           1,           1,           1,           1,           1,           1,           1,           1,           1,           1,           1,           1,\n",
       "                  1,           1,           1,           1,           1,           1,           1,           1,           1,           1,           1,           1,           1,           1,           1,           1,           1,           1,           1,           1,           1,           1,           1,\n",
       "                  1,           1,           1,           1,           1,           1,           1,           1,           1,           1,           1,           1,           1,           1,           1,           1,           1,           1,           1,           1,           1,           1,           1,\n",
       "                  1,           1,           1,           1,           1,           1,           1,           1,           1,           1,           1,           1,           1,           1,           1,           1,           1,           1,           1,           1,           1,           1,           1,\n",
       "                  1,           1,           1,           1,           1,           1,           1,           1,           1,           1,           1,           1,           1,           1,           1,           1,           1,           1,           1,           1,           1,           1,           1,\n",
       "                  1,           1,           1,           1,           1,           1,           1,           1,           1,           1,           1,           1,           1,           1,           1,           1,           1,           1,           1,           1,           1,           1,           1,\n",
       "                  1,           1,           1,           1,           1,           1,           1,           1,           1,           1,           1,           1,           1,           1,           1,           1,           1,           1,     0.98936,     0.98936,     0.98936,     0.98936,     0.98936,\n",
       "            0.98936,     0.98936,     0.98936,     0.98936,     0.98936,     0.98936,     0.98936,     0.98936,     0.98936,     0.98936,     0.98936,     0.98936,     0.98936,     0.98936,     0.97938,     0.97938,     0.97938,     0.97938,     0.97938,     0.97938,     0.97938,     0.97938,     0.97938,\n",
       "            0.97938,     0.97938,     0.97938,     0.96552,     0.96552,     0.96552,     0.96552,     0.96552,     0.96552,     0.96552,     0.96552,     0.96552,     0.96552,     0.96552,     0.96552,     0.96552,     0.96552,     0.96552,     0.96552,     0.96552,     0.96552,     0.96552,     0.96552,\n",
       "            0.96552,     0.96552,     0.96552,     0.96552,     0.96552,     0.96552,     0.96552,     0.96552,     0.96552,     0.96552,     0.96552,     0.96552,     0.96552,     0.96552,     0.96552,     0.96552,     0.96552,     0.96552,     0.96552,     0.96552,     0.96552,     0.96552,     0.96552,\n",
       "            0.96552,     0.96552,     0.96552,     0.96552,     0.96552,     0.96552,     0.96552,     0.96552,     0.96552,     0.96552,     0.96552,     0.96552,     0.96552,     0.96552,     0.96552,     0.96552,     0.96552,     0.96552,     0.96552,     0.96552,     0.96552,     0.96552,     0.96552,\n",
       "            0.96552,     0.96552,     0.96552,     0.96552,     0.96552,     0.96552,     0.96552,     0.96552,     0.96552,     0.96552,     0.96552,     0.96552,     0.96552,     0.96552,     0.96552,     0.96552,     0.96552,     0.96552,     0.96552,     0.96552,     0.96552,     0.96552,     0.96552,\n",
       "            0.96552,     0.96552,     0.96552,     0.96552,     0.96552,     0.96552,     0.96552,     0.96552,     0.96552,     0.96552,     0.96552,     0.96552,     0.96552,     0.96552,     0.96552,     0.96552,     0.96552,     0.96552,     0.96552,     0.95833,     0.95833,     0.95833,     0.95833,\n",
       "            0.95833,     0.95833,     0.95833,     0.95833,     0.95833,     0.95833,     0.95833,     0.95833,     0.95833,     0.95833,     0.95833,     0.95833,     0.95833,     0.95833,     0.95833,       0.952,       0.952,       0.952,       0.952,       0.952,       0.952,       0.952,       0.952,\n",
       "              0.952,       0.952,       0.952,       0.952,       0.952,       0.952,       0.952,       0.952,       0.952,       0.952,       0.952,       0.952,       0.952,       0.952,       0.952,       0.952,       0.952,     0.94531,     0.94531,     0.94531,     0.94531,     0.94531,     0.94531,\n",
       "            0.94531,     0.94531,     0.94531,     0.94531,     0.94531,     0.94531,     0.94531,     0.93893,     0.93893,     0.93893,     0.93893,     0.93893,     0.93893,     0.93893,     0.93893,     0.93893,     0.93893,     0.93893,     0.93893,     0.92537,     0.92537,     0.92537,     0.92537,\n",
       "            0.92537,     0.92537,     0.92537,     0.91912,     0.91912,     0.91912,     0.91912,     0.91912,     0.91912,     0.90647,     0.90647,     0.90647,     0.90647,     0.90647,     0.90647,     0.90071,     0.90071,     0.90071,     0.90071,     0.90071,     0.90071,     0.83766,     0.83766,\n",
       "            0.83766,     0.83766,     0.83766,     0.83766,     0.83766,     0.83766,     0.83766,     0.83766,     0.83766,     0.83766,     0.83766,     0.77381,     0.77381,     0.77381,     0.77381,     0.77381,     0.77381,     0.75723,     0.75723,     0.75723,     0.75723,     0.75723,     0.75723,\n",
       "            0.75723,     0.71123,     0.71123,     0.71123,     0.71123,     0.71123,     0.71123,     0.71123,     0.71123,     0.71123,     0.71123,     0.71123,     0.71123,     0.70899,     0.70899,     0.70899,     0.70899,     0.70899,     0.70899,     0.70899,     0.66502,     0.66502,     0.66502,\n",
       "            0.66502,     0.66502,     0.66502,       0.621,       0.621,       0.621,       0.621,       0.621,       0.621,     0.55918,     0.55918,     0.55918,     0.55918,     0.55918,     0.55918,     0.55918,     0.32857,     0.32857,     0.32857,     0.32857,     0.32857,     0.32857,     0.30217,\n",
       "            0.30217,     0.30217,     0.30217,     0.30217,     0.30217,     0.16015,     0.15881,     0.15748,     0.15614,     0.15481,     0.15347,     0.15214,      0.1508,     0.14947,     0.14813,      0.1468,     0.14547,     0.14413,      0.1428,     0.14146,     0.14013,     0.13879,     0.13746,\n",
       "            0.13612,     0.13479,     0.13345,     0.13212,     0.13079,     0.12945,     0.12812,     0.12678,     0.12545,     0.12411,     0.12278,     0.12144,     0.12011,     0.11877,     0.11744,     0.11611,     0.11477,     0.11344,      0.1121,     0.11077,     0.10943,      0.1081,     0.10676,\n",
       "            0.10543,     0.10409,     0.10276,     0.10143,     0.10009,    0.098756,    0.097422,    0.096087,    0.094753,    0.093418,    0.092084,    0.090749,    0.089415,     0.08808,    0.086746,    0.085411,    0.084076,    0.082742,    0.081407,    0.080073,    0.078738,    0.077404,    0.076069,\n",
       "           0.074735,      0.0734,    0.072066,    0.070731,    0.069396,    0.068062,    0.066727,    0.065393,    0.064058,    0.062724,    0.061389,    0.060055,     0.05872,    0.057385,    0.056051,    0.054716,    0.053382,    0.052047,    0.050713,    0.049378,    0.048044,    0.046709,    0.045375,\n",
       "            0.04404,    0.042705,    0.041371,    0.040036,    0.038702,    0.037367,    0.036033,    0.034698,    0.033364,    0.032029,    0.030695,     0.02936,    0.028025,    0.026691,    0.025356,    0.024022,    0.022687,    0.021353,    0.020018,    0.018684,    0.017349,    0.016015,     0.01468,\n",
       "           0.013345,    0.012011,    0.010676,   0.0093418,   0.0080073,   0.0066727,   0.0053382,   0.0040036,   0.0026691,   0.0013345,           0]]), 'Recall', 'Precision'], [array([          0,    0.001001,    0.002002,    0.003003,    0.004004,    0.005005,    0.006006,    0.007007,    0.008008,    0.009009,     0.01001,    0.011011,    0.012012,    0.013013,    0.014014,    0.015015,    0.016016,    0.017017,    0.018018,    0.019019,     0.02002,    0.021021,    0.022022,    0.023023,\n",
       "          0.024024,    0.025025,    0.026026,    0.027027,    0.028028,    0.029029,     0.03003,    0.031031,    0.032032,    0.033033,    0.034034,    0.035035,    0.036036,    0.037037,    0.038038,    0.039039,     0.04004,    0.041041,    0.042042,    0.043043,    0.044044,    0.045045,    0.046046,    0.047047,\n",
       "          0.048048,    0.049049,     0.05005,    0.051051,    0.052052,    0.053053,    0.054054,    0.055055,    0.056056,    0.057057,    0.058058,    0.059059,     0.06006,    0.061061,    0.062062,    0.063063,    0.064064,    0.065065,    0.066066,    0.067067,    0.068068,    0.069069,     0.07007,    0.071071,\n",
       "          0.072072,    0.073073,    0.074074,    0.075075,    0.076076,    0.077077,    0.078078,    0.079079,     0.08008,    0.081081,    0.082082,    0.083083,    0.084084,    0.085085,    0.086086,    0.087087,    0.088088,    0.089089,     0.09009,    0.091091,    0.092092,    0.093093,    0.094094,    0.095095,\n",
       "          0.096096,    0.097097,    0.098098,    0.099099,      0.1001,      0.1011,      0.1021,      0.1031,      0.1041,     0.10511,     0.10611,     0.10711,     0.10811,     0.10911,     0.11011,     0.11111,     0.11211,     0.11311,     0.11411,     0.11512,     0.11612,     0.11712,     0.11812,     0.11912,\n",
       "           0.12012,     0.12112,     0.12212,     0.12312,     0.12412,     0.12513,     0.12613,     0.12713,     0.12813,     0.12913,     0.13013,     0.13113,     0.13213,     0.13313,     0.13413,     0.13514,     0.13614,     0.13714,     0.13814,     0.13914,     0.14014,     0.14114,     0.14214,     0.14314,\n",
       "           0.14414,     0.14515,     0.14615,     0.14715,     0.14815,     0.14915,     0.15015,     0.15115,     0.15215,     0.15315,     0.15415,     0.15516,     0.15616,     0.15716,     0.15816,     0.15916,     0.16016,     0.16116,     0.16216,     0.16316,     0.16416,     0.16517,     0.16617,     0.16717,\n",
       "           0.16817,     0.16917,     0.17017,     0.17117,     0.17217,     0.17317,     0.17417,     0.17518,     0.17618,     0.17718,     0.17818,     0.17918,     0.18018,     0.18118,     0.18218,     0.18318,     0.18418,     0.18519,     0.18619,     0.18719,     0.18819,     0.18919,     0.19019,     0.19119,\n",
       "           0.19219,     0.19319,     0.19419,      0.1952,      0.1962,      0.1972,      0.1982,      0.1992,      0.2002,      0.2012,      0.2022,      0.2032,      0.2042,     0.20521,     0.20621,     0.20721,     0.20821,     0.20921,     0.21021,     0.21121,     0.21221,     0.21321,     0.21421,     0.21522,\n",
       "           0.21622,     0.21722,     0.21822,     0.21922,     0.22022,     0.22122,     0.22222,     0.22322,     0.22422,     0.22523,     0.22623,     0.22723,     0.22823,     0.22923,     0.23023,     0.23123,     0.23223,     0.23323,     0.23423,     0.23524,     0.23624,     0.23724,     0.23824,     0.23924,\n",
       "           0.24024,     0.24124,     0.24224,     0.24324,     0.24424,     0.24525,     0.24625,     0.24725,     0.24825,     0.24925,     0.25025,     0.25125,     0.25225,     0.25325,     0.25425,     0.25526,     0.25626,     0.25726,     0.25826,     0.25926,     0.26026,     0.26126,     0.26226,     0.26326,\n",
       "           0.26426,     0.26527,     0.26627,     0.26727,     0.26827,     0.26927,     0.27027,     0.27127,     0.27227,     0.27327,     0.27427,     0.27528,     0.27628,     0.27728,     0.27828,     0.27928,     0.28028,     0.28128,     0.28228,     0.28328,     0.28428,     0.28529,     0.28629,     0.28729,\n",
       "           0.28829,     0.28929,     0.29029,     0.29129,     0.29229,     0.29329,     0.29429,      0.2953,      0.2963,      0.2973,      0.2983,      0.2993,      0.3003,      0.3013,      0.3023,      0.3033,      0.3043,     0.30531,     0.30631,     0.30731,     0.30831,     0.30931,     0.31031,     0.31131,\n",
       "           0.31231,     0.31331,     0.31431,     0.31532,     0.31632,     0.31732,     0.31832,     0.31932,     0.32032,     0.32132,     0.32232,     0.32332,     0.32432,     0.32533,     0.32633,     0.32733,     0.32833,     0.32933,     0.33033,     0.33133,     0.33233,     0.33333,     0.33433,     0.33534,\n",
       "           0.33634,     0.33734,     0.33834,     0.33934,     0.34034,     0.34134,     0.34234,     0.34334,     0.34434,     0.34535,     0.34635,     0.34735,     0.34835,     0.34935,     0.35035,     0.35135,     0.35235,     0.35335,     0.35435,     0.35536,     0.35636,     0.35736,     0.35836,     0.35936,\n",
       "           0.36036,     0.36136,     0.36236,     0.36336,     0.36436,     0.36537,     0.36637,     0.36737,     0.36837,     0.36937,     0.37037,     0.37137,     0.37237,     0.37337,     0.37437,     0.37538,     0.37638,     0.37738,     0.37838,     0.37938,     0.38038,     0.38138,     0.38238,     0.38338,\n",
       "           0.38438,     0.38539,     0.38639,     0.38739,     0.38839,     0.38939,     0.39039,     0.39139,     0.39239,     0.39339,     0.39439,      0.3954,      0.3964,      0.3974,      0.3984,      0.3994,      0.4004,      0.4014,      0.4024,      0.4034,      0.4044,     0.40541,     0.40641,     0.40741,\n",
       "           0.40841,     0.40941,     0.41041,     0.41141,     0.41241,     0.41341,     0.41441,     0.41542,     0.41642,     0.41742,     0.41842,     0.41942,     0.42042,     0.42142,     0.42242,     0.42342,     0.42442,     0.42543,     0.42643,     0.42743,     0.42843,     0.42943,     0.43043,     0.43143,\n",
       "           0.43243,     0.43343,     0.43443,     0.43544,     0.43644,     0.43744,     0.43844,     0.43944,     0.44044,     0.44144,     0.44244,     0.44344,     0.44444,     0.44545,     0.44645,     0.44745,     0.44845,     0.44945,     0.45045,     0.45145,     0.45245,     0.45345,     0.45445,     0.45546,\n",
       "           0.45646,     0.45746,     0.45846,     0.45946,     0.46046,     0.46146,     0.46246,     0.46346,     0.46446,     0.46547,     0.46647,     0.46747,     0.46847,     0.46947,     0.47047,     0.47147,     0.47247,     0.47347,     0.47447,     0.47548,     0.47648,     0.47748,     0.47848,     0.47948,\n",
       "           0.48048,     0.48148,     0.48248,     0.48348,     0.48448,     0.48549,     0.48649,     0.48749,     0.48849,     0.48949,     0.49049,     0.49149,     0.49249,     0.49349,     0.49449,      0.4955,      0.4965,      0.4975,      0.4985,      0.4995,      0.5005,      0.5015,      0.5025,      0.5035,\n",
       "            0.5045,     0.50551,     0.50651,     0.50751,     0.50851,     0.50951,     0.51051,     0.51151,     0.51251,     0.51351,     0.51451,     0.51552,     0.51652,     0.51752,     0.51852,     0.51952,     0.52052,     0.52152,     0.52252,     0.52352,     0.52452,     0.52553,     0.52653,     0.52753,\n",
       "           0.52853,     0.52953,     0.53053,     0.53153,     0.53253,     0.53353,     0.53453,     0.53554,     0.53654,     0.53754,     0.53854,     0.53954,     0.54054,     0.54154,     0.54254,     0.54354,     0.54454,     0.54555,     0.54655,     0.54755,     0.54855,     0.54955,     0.55055,     0.55155,\n",
       "           0.55255,     0.55355,     0.55455,     0.55556,     0.55656,     0.55756,     0.55856,     0.55956,     0.56056,     0.56156,     0.56256,     0.56356,     0.56456,     0.56557,     0.56657,     0.56757,     0.56857,     0.56957,     0.57057,     0.57157,     0.57257,     0.57357,     0.57457,     0.57558,\n",
       "           0.57658,     0.57758,     0.57858,     0.57958,     0.58058,     0.58158,     0.58258,     0.58358,     0.58458,     0.58559,     0.58659,     0.58759,     0.58859,     0.58959,     0.59059,     0.59159,     0.59259,     0.59359,     0.59459,      0.5956,      0.5966,      0.5976,      0.5986,      0.5996,\n",
       "            0.6006,      0.6016,      0.6026,      0.6036,      0.6046,     0.60561,     0.60661,     0.60761,     0.60861,     0.60961,     0.61061,     0.61161,     0.61261,     0.61361,     0.61461,     0.61562,     0.61662,     0.61762,     0.61862,     0.61962,     0.62062,     0.62162,     0.62262,     0.62362,\n",
       "           0.62462,     0.62563,     0.62663,     0.62763,     0.62863,     0.62963,     0.63063,     0.63163,     0.63263,     0.63363,     0.63463,     0.63564,     0.63664,     0.63764,     0.63864,     0.63964,     0.64064,     0.64164,     0.64264,     0.64364,     0.64464,     0.64565,     0.64665,     0.64765,\n",
       "           0.64865,     0.64965,     0.65065,     0.65165,     0.65265,     0.65365,     0.65465,     0.65566,     0.65666,     0.65766,     0.65866,     0.65966,     0.66066,     0.66166,     0.66266,     0.66366,     0.66466,     0.66567,     0.66667,     0.66767,     0.66867,     0.66967,     0.67067,     0.67167,\n",
       "           0.67267,     0.67367,     0.67467,     0.67568,     0.67668,     0.67768,     0.67868,     0.67968,     0.68068,     0.68168,     0.68268,     0.68368,     0.68468,     0.68569,     0.68669,     0.68769,     0.68869,     0.68969,     0.69069,     0.69169,     0.69269,     0.69369,     0.69469,      0.6957,\n",
       "            0.6967,      0.6977,      0.6987,      0.6997,      0.7007,      0.7017,      0.7027,      0.7037,      0.7047,     0.70571,     0.70671,     0.70771,     0.70871,     0.70971,     0.71071,     0.71171,     0.71271,     0.71371,     0.71471,     0.71572,     0.71672,     0.71772,     0.71872,     0.71972,\n",
       "           0.72072,     0.72172,     0.72272,     0.72372,     0.72472,     0.72573,     0.72673,     0.72773,     0.72873,     0.72973,     0.73073,     0.73173,     0.73273,     0.73373,     0.73473,     0.73574,     0.73674,     0.73774,     0.73874,     0.73974,     0.74074,     0.74174,     0.74274,     0.74374,\n",
       "           0.74474,     0.74575,     0.74675,     0.74775,     0.74875,     0.74975,     0.75075,     0.75175,     0.75275,     0.75375,     0.75475,     0.75576,     0.75676,     0.75776,     0.75876,     0.75976,     0.76076,     0.76176,     0.76276,     0.76376,     0.76476,     0.76577,     0.76677,     0.76777,\n",
       "           0.76877,     0.76977,     0.77077,     0.77177,     0.77277,     0.77377,     0.77477,     0.77578,     0.77678,     0.77778,     0.77878,     0.77978,     0.78078,     0.78178,     0.78278,     0.78378,     0.78478,     0.78579,     0.78679,     0.78779,     0.78879,     0.78979,     0.79079,     0.79179,\n",
       "           0.79279,     0.79379,     0.79479,      0.7958,      0.7968,      0.7978,      0.7988,      0.7998,      0.8008,      0.8018,      0.8028,      0.8038,      0.8048,     0.80581,     0.80681,     0.80781,     0.80881,     0.80981,     0.81081,     0.81181,     0.81281,     0.81381,     0.81481,     0.81582,\n",
       "           0.81682,     0.81782,     0.81882,     0.81982,     0.82082,     0.82182,     0.82282,     0.82382,     0.82482,     0.82583,     0.82683,     0.82783,     0.82883,     0.82983,     0.83083,     0.83183,     0.83283,     0.83383,     0.83483,     0.83584,     0.83684,     0.83784,     0.83884,     0.83984,\n",
       "           0.84084,     0.84184,     0.84284,     0.84384,     0.84484,     0.84585,     0.84685,     0.84785,     0.84885,     0.84985,     0.85085,     0.85185,     0.85285,     0.85385,     0.85485,     0.85586,     0.85686,     0.85786,     0.85886,     0.85986,     0.86086,     0.86186,     0.86286,     0.86386,\n",
       "           0.86486,     0.86587,     0.86687,     0.86787,     0.86887,     0.86987,     0.87087,     0.87187,     0.87287,     0.87387,     0.87487,     0.87588,     0.87688,     0.87788,     0.87888,     0.87988,     0.88088,     0.88188,     0.88288,     0.88388,     0.88488,     0.88589,     0.88689,     0.88789,\n",
       "           0.88889,     0.88989,     0.89089,     0.89189,     0.89289,     0.89389,     0.89489,      0.8959,      0.8969,      0.8979,      0.8989,      0.8999,      0.9009,      0.9019,      0.9029,      0.9039,      0.9049,     0.90591,     0.90691,     0.90791,     0.90891,     0.90991,     0.91091,     0.91191,\n",
       "           0.91291,     0.91391,     0.91491,     0.91592,     0.91692,     0.91792,     0.91892,     0.91992,     0.92092,     0.92192,     0.92292,     0.92392,     0.92492,     0.92593,     0.92693,     0.92793,     0.92893,     0.92993,     0.93093,     0.93193,     0.93293,     0.93393,     0.93493,     0.93594,\n",
       "           0.93694,     0.93794,     0.93894,     0.93994,     0.94094,     0.94194,     0.94294,     0.94394,     0.94494,     0.94595,     0.94695,     0.94795,     0.94895,     0.94995,     0.95095,     0.95195,     0.95295,     0.95395,     0.95495,     0.95596,     0.95696,     0.95796,     0.95896,     0.95996,\n",
       "           0.96096,     0.96196,     0.96296,     0.96396,     0.96496,     0.96597,     0.96697,     0.96797,     0.96897,     0.96997,     0.97097,     0.97197,     0.97297,     0.97397,     0.97497,     0.97598,     0.97698,     0.97798,     0.97898,     0.97998,     0.98098,     0.98198,     0.98298,     0.98398,\n",
       "           0.98498,     0.98599,     0.98699,     0.98799,     0.98899,     0.98999,     0.99099,     0.99199,     0.99299,     0.99399,     0.99499,       0.996,       0.997,       0.998,       0.999,           1]), array([[    0.27122,     0.27184,     0.50114,     0.58603,     0.60927,     0.63386,     0.66182,     0.67486,     0.68608,     0.70858,     0.71741,     0.72217,     0.72385,     0.73545,     0.73692,     0.74335,     0.74511,     0.74831,     0.75159,     0.75268,     0.75538,      0.7574,     0.75839,\n",
       "             0.7597,     0.76265,     0.77066,     0.77015,     0.77011,     0.76969,     0.76742,     0.76517,     0.77146,     0.77377,     0.77534,     0.77614,     0.77694,     0.77835,     0.78029,     0.78148,     0.78451,     0.78492,     0.78533,     0.78574,     0.78615,     0.78656,     0.78799,\n",
       "             0.7887,     0.79063,      0.7914,     0.79218,      0.7928,     0.79314,     0.79348,     0.79382,     0.79416,      0.7945,     0.79484,     0.79558,      0.7974,     0.79524,     0.79432,     0.79564,     0.79699,     0.79836,     0.80181,     0.80451,     0.80527,     0.80604,     0.80879,\n",
       "             0.8091,     0.80941,     0.80972,     0.81002,     0.81033,     0.81063,     0.81094,     0.81125,     0.81161,       0.812,     0.81239,     0.81278,     0.81316,     0.81355,     0.81403,     0.81509,     0.81614,     0.81744,     0.81884,     0.82456,     0.82531,     0.82607,     0.82682,\n",
       "            0.82533,     0.82347,     0.82209,     0.82082,     0.81954,     0.82134,     0.82646,     0.82955,     0.83287,     0.83333,     0.83378,     0.83423,     0.83468,     0.83514,     0.83832,      0.8392,     0.84008,     0.84096,     0.84141,      0.8418,     0.84219,     0.84259,     0.84298,\n",
       "            0.84337,     0.84376,     0.84419,     0.84464,     0.84508,     0.84553,     0.84597,     0.84642,     0.84705,     0.84793,     0.84881,     0.84939,     0.84889,     0.84839,     0.84789,     0.84739,     0.84689,     0.84639,     0.84589,     0.84589,      0.8464,     0.84691,     0.84741,\n",
       "            0.84792,     0.84843,     0.84621,     0.84464,     0.84477,      0.8449,     0.84503,     0.84516,     0.84529,     0.84542,     0.84555,     0.84568,     0.84581,     0.84594,     0.84607,      0.8462,     0.84633,     0.84646,     0.84659,     0.84672,     0.84685,     0.84698,     0.84711,\n",
       "            0.84724,     0.84736,     0.84757,     0.84795,     0.84833,     0.84871,      0.8491,     0.84948,     0.84986,     0.85024,     0.85005,     0.84966,     0.84927,     0.84888,     0.84848,     0.84809,      0.8477,     0.84731,     0.84691,     0.84652,     0.84678,     0.84728,     0.84778,\n",
       "            0.84827,     0.84877,     0.84926,     0.84817,     0.84688,     0.84559,     0.84714,     0.84901,     0.85055,     0.84871,     0.84706,     0.84681,     0.84657,     0.84632,     0.84608,     0.84583,     0.84559,     0.84534,      0.8451,     0.84485,     0.84461,     0.84436,     0.84411,\n",
       "            0.84387,     0.84362,     0.84338,     0.84457,     0.84267,     0.84197,     0.84183,     0.84168,     0.84153,     0.84138,     0.84124,     0.84109,     0.84094,      0.8408,     0.84065,      0.8405,     0.84035,     0.84021,     0.84006,     0.83991,     0.83976,     0.83962,     0.83947,\n",
       "            0.83932,     0.83917,     0.83902,     0.83888,     0.83873,     0.83858,     0.83843,     0.83829,     0.83814,     0.83805,     0.83812,     0.83819,     0.83826,     0.83834,     0.83841,     0.83848,     0.83855,     0.83862,      0.8387,     0.83877,     0.83884,     0.83891,     0.83898,\n",
       "            0.83906,     0.83913,      0.8392,     0.83927,     0.83934,     0.83942,     0.83949,     0.83956,     0.83963,      0.8397,     0.83978,     0.83985,     0.83992,     0.83999,     0.84006,     0.84013,     0.84021,     0.84028,     0.84035,     0.84042,     0.84049,     0.84057,     0.84064,\n",
       "            0.84071,     0.84078,     0.84085,     0.84092,     0.84096,     0.84065,     0.84033,     0.84001,     0.83969,     0.83937,     0.83906,     0.83874,     0.83842,      0.8381,     0.83778,     0.83746,     0.83714,     0.83678,     0.83625,     0.83571,     0.83517,     0.83463,     0.83409,\n",
       "            0.83356,     0.83302,     0.83233,     0.83149,     0.83065,      0.8298,     0.82896,      0.8282,     0.82752,     0.82684,     0.82615,     0.82547,     0.82478,     0.82456,     0.82502,     0.82548,     0.82594,     0.82639,     0.82685,     0.82731,      0.8257,     0.82394,     0.82291,\n",
       "            0.82254,     0.82217,      0.8218,     0.82143,     0.82106,     0.82069,     0.82032,     0.81995,     0.81958,     0.81921,     0.81884,     0.81856,     0.81827,     0.81799,     0.81771,     0.81742,     0.81714,     0.81685,     0.81657,     0.81628,       0.816,     0.81572,     0.81543,\n",
       "            0.81514,     0.81486,     0.81457,     0.81469,     0.81486,     0.81502,     0.81518,     0.81534,     0.81551,     0.81567,     0.81583,       0.816,     0.81616,     0.81632,     0.81648,     0.81664,     0.81681,     0.81697,     0.81713,     0.81729,     0.81745,     0.81738,     0.81715,\n",
       "            0.81692,     0.81668,     0.81645,     0.81622,     0.81599,     0.81576,     0.81553,     0.81529,     0.81506,     0.81483,      0.8146,     0.81437,     0.81413,      0.8139,     0.81367,     0.81344,      0.8132,     0.81258,     0.81194,     0.81129,     0.81064,     0.80999,     0.80934,\n",
       "            0.80871,     0.80814,     0.80758,     0.80701,     0.80644,     0.80587,      0.8053,     0.80473,     0.80409,     0.80339,     0.80268,     0.80197,     0.80126,     0.80055,     0.79995,     0.79971,     0.79948,     0.79924,       0.799,     0.79877,     0.79853,      0.7983,     0.79806,\n",
       "            0.79782,     0.79759,     0.79735,     0.79711,     0.79688,     0.79664,      0.7964,     0.79617,     0.79593,     0.79569,     0.79528,     0.79455,     0.79382,     0.79308,     0.79235,     0.79162,     0.79083,     0.78989,     0.78894,     0.78799,     0.78704,     0.78593,      0.7846,\n",
       "            0.78327,     0.78193,     0.77958,     0.77735,     0.77714,     0.77693,     0.77672,     0.77651,      0.7763,     0.77609,     0.77588,     0.77567,     0.77546,     0.77525,     0.77504,     0.77483,     0.77462,     0.77441,      0.7742,     0.77399,     0.77378,     0.77357,     0.77336,\n",
       "            0.77315,     0.77294,     0.77273,     0.76702,     0.76543,     0.76383,     0.76235,     0.76093,     0.75949,     0.75852,     0.75827,     0.75801,     0.75776,      0.7575,     0.75725,       0.757,     0.75674,     0.75649,     0.75623,     0.75598,     0.75572,     0.75547,     0.75521,\n",
       "            0.75496,      0.7547,     0.75445,     0.75419,     0.75394,     0.75126,      0.7489,     0.74858,     0.74827,     0.74796,     0.74765,     0.74733,     0.74702,     0.74671,     0.74639,     0.74608,     0.74576,     0.74545,     0.74514,     0.74482,     0.74451,     0.74419,     0.74384,\n",
       "             0.7435,     0.74315,      0.7428,     0.74245,      0.7421,     0.74175,      0.7414,     0.74105,     0.74069,     0.74034,     0.73999,     0.73964,     0.73931,     0.73982,     0.74033,     0.74084,     0.74135,     0.74185,     0.74275,     0.74442,     0.74409,     0.74238,     0.74067,\n",
       "            0.74005,     0.73991,     0.73976,     0.73961,     0.73946,     0.73931,     0.73916,     0.73901,     0.73887,     0.73872,     0.73857,     0.73842,     0.73827,     0.73812,     0.73797,     0.73783,     0.73768,     0.73753,     0.73738,     0.73723,     0.73708,     0.73693,     0.73678,\n",
       "            0.73663,     0.73649,     0.73634,     0.73619,     0.73604,     0.73589,     0.73574,     0.73559,     0.73544,     0.73529,     0.73538,     0.73622,     0.73706,      0.7379,     0.73756,     0.73686,     0.73616,     0.73546,     0.73476,     0.73405,     0.73335,     0.73231,     0.73104,\n",
       "            0.72977,      0.7285,     0.72779,     0.72745,      0.7271,     0.72676,     0.72641,     0.72607,     0.72573,     0.72538,     0.72504,     0.72469,     0.72435,       0.724,     0.72366,     0.72331,     0.72296,     0.72559,     0.72406,      0.7222,     0.71975,     0.71542,     0.71527,\n",
       "            0.71512,     0.71497,     0.71482,     0.71467,     0.71453,     0.71438,     0.71423,     0.71408,     0.71393,     0.71378,     0.71363,     0.71348,     0.71333,     0.71318,     0.71303,     0.71288,     0.71273,     0.71258,     0.71243,     0.71228,     0.71213,     0.71198,     0.71183,\n",
       "            0.71168,     0.71153,     0.71138,     0.71123,     0.71108,     0.71093,     0.71078,     0.71063,     0.71048,     0.71033,     0.71007,     0.70922,     0.70837,     0.70752,     0.70667,     0.70581,     0.70496,      0.7044,     0.70385,      0.7033,     0.70275,      0.7022,     0.70164,\n",
       "            0.70109,     0.70054,     0.69999,     0.69942,     0.69882,     0.69821,      0.6976,       0.697,     0.69639,     0.69578,     0.69517,     0.69457,      0.6937,     0.69248,     0.69126,     0.69004,     0.68882,     0.68822,     0.68763,     0.68704,     0.68645,     0.68585,     0.68526,\n",
       "            0.68467,     0.68408,     0.68348,     0.67751,     0.67691,     0.67631,     0.67571,     0.67511,     0.67451,     0.67391,      0.6733,      0.6727,     0.67175,     0.66992,     0.66809,     0.66661,     0.66638,     0.66614,      0.6659,     0.66566,     0.66542,     0.66519,     0.66495,\n",
       "            0.66471,     0.66447,     0.66423,     0.66399,     0.66375,     0.66352,     0.66328,     0.66304,      0.6628,     0.66256,     0.66232,     0.66208,     0.66184,      0.6616,     0.66136,     0.66112,     0.65992,     0.65793,     0.65593,     0.65377,     0.65153,     0.64954,      0.6493,\n",
       "            0.64906,     0.64881,     0.64857,     0.64833,     0.64809,     0.64784,      0.6476,     0.64736,     0.64712,     0.64687,     0.64663,     0.64639,     0.64614,      0.6459,     0.64565,     0.64541,     0.64517,     0.64492,     0.64468,     0.64444,     0.64419,     0.64395,      0.6435,\n",
       "            0.64261,     0.64172,     0.64082,     0.63992,     0.63902,     0.63812,     0.63725,     0.63638,     0.63551,     0.63464,     0.63376,     0.63289,     0.63201,     0.63093,     0.62984,     0.62875,     0.62766,     0.62657,     0.62199,     0.61972,     0.61923,     0.61873,     0.61824,\n",
       "            0.61774,     0.61725,     0.61675,     0.61625,     0.61576,     0.61526,     0.61476,     0.61427,     0.61338,     0.61215,     0.61092,     0.60968,     0.60845,     0.60505,     0.60107,     0.59897,     0.59688,     0.59507,     0.59376,     0.59245,     0.59113,     0.58982,     0.58823,\n",
       "            0.58647,      0.5847,     0.58295,     0.58253,     0.58211,     0.58168,     0.58126,     0.58084,     0.58041,     0.57999,     0.57957,     0.57914,     0.57872,     0.57829,     0.57787,     0.57744,     0.57702,     0.57659,     0.57578,     0.57495,     0.57412,      0.5733,     0.57247,\n",
       "            0.57164,     0.57081,     0.56916,     0.56399,     0.56195,     0.56013,     0.55831,     0.55026,      0.5473,     0.54433,      0.5427,     0.54138,     0.54005,     0.53872,     0.53739,     0.53601,     0.53462,     0.53323,     0.53183,     0.53043,     0.52927,     0.52814,     0.52701,\n",
       "            0.52588,     0.52475,     0.52362,     0.51832,     0.50923,     0.50842,     0.50761,     0.50679,     0.50598,     0.50516,     0.50434,     0.50353,     0.50271,     0.50147,     0.49994,      0.4984,     0.49686,     0.49532,     0.49438,     0.49348,     0.49257,     0.49166,     0.49075,\n",
       "            0.48985,     0.48894,      0.4878,     0.47966,     0.47757,     0.47547,     0.47338,     0.47161,     0.46983,     0.46805,     0.46626,     0.46553,     0.46496,      0.4644,     0.46383,     0.46326,     0.46269,     0.46212,     0.46155,     0.46098,     0.46041,     0.45984,     0.45927,\n",
       "             0.4587,     0.45079,     0.44506,     0.43508,     0.43354,       0.432,     0.43046,     0.42891,     0.42549,     0.41774,     0.40872,     0.40218,     0.39856,     0.38716,     0.38205,     0.37742,     0.37329,     0.36659,     0.36084,     0.35768,     0.35451,     0.34357,     0.33919,\n",
       "            0.33251,     0.32452,     0.31801,     0.31263,     0.29956,     0.28127,      0.2779,     0.27451,     0.27072,     0.26667,     0.26226,     0.25696,      0.2405,     0.22852,     0.22113,     0.21509,     0.20101,     0.18353,     0.16243,     0.15977,      0.1571,     0.15442,     0.15175,\n",
       "            0.14916,     0.14657,     0.14398,     0.14137,      0.1265,      0.1202,     0.10811,     0.10417,     0.10044,    0.096708,    0.094171,    0.091742,    0.089307,    0.086866,    0.082419,    0.072522,    0.070588,    0.068651,    0.066709,    0.064764,    0.062814,    0.060973,    0.059463,\n",
       "           0.057951,    0.056436,    0.054919,      0.0534,    0.051878,    0.050354,    0.048205,    0.044955,    0.041694,    0.038422,    0.024252,    0.022137,    0.020017,    0.017893,    0.015764,     0.01363,           0,           0,           0,           0,           0,           0,           0,\n",
       "                  0,           0,           0,           0,           0,           0,           0,           0,           0,           0,           0,           0,           0,           0,           0,           0,           0,           0,           0,           0,           0,           0,           0,\n",
       "                  0,           0,           0,           0,           0,           0,           0,           0,           0,           0,           0]]), 'Confidence', 'F1'], [array([          0,    0.001001,    0.002002,    0.003003,    0.004004,    0.005005,    0.006006,    0.007007,    0.008008,    0.009009,     0.01001,    0.011011,    0.012012,    0.013013,    0.014014,    0.015015,    0.016016,    0.017017,    0.018018,    0.019019,     0.02002,    0.021021,    0.022022,    0.023023,\n",
       "          0.024024,    0.025025,    0.026026,    0.027027,    0.028028,    0.029029,     0.03003,    0.031031,    0.032032,    0.033033,    0.034034,    0.035035,    0.036036,    0.037037,    0.038038,    0.039039,     0.04004,    0.041041,    0.042042,    0.043043,    0.044044,    0.045045,    0.046046,    0.047047,\n",
       "          0.048048,    0.049049,     0.05005,    0.051051,    0.052052,    0.053053,    0.054054,    0.055055,    0.056056,    0.057057,    0.058058,    0.059059,     0.06006,    0.061061,    0.062062,    0.063063,    0.064064,    0.065065,    0.066066,    0.067067,    0.068068,    0.069069,     0.07007,    0.071071,\n",
       "          0.072072,    0.073073,    0.074074,    0.075075,    0.076076,    0.077077,    0.078078,    0.079079,     0.08008,    0.081081,    0.082082,    0.083083,    0.084084,    0.085085,    0.086086,    0.087087,    0.088088,    0.089089,     0.09009,    0.091091,    0.092092,    0.093093,    0.094094,    0.095095,\n",
       "          0.096096,    0.097097,    0.098098,    0.099099,      0.1001,      0.1011,      0.1021,      0.1031,      0.1041,     0.10511,     0.10611,     0.10711,     0.10811,     0.10911,     0.11011,     0.11111,     0.11211,     0.11311,     0.11411,     0.11512,     0.11612,     0.11712,     0.11812,     0.11912,\n",
       "           0.12012,     0.12112,     0.12212,     0.12312,     0.12412,     0.12513,     0.12613,     0.12713,     0.12813,     0.12913,     0.13013,     0.13113,     0.13213,     0.13313,     0.13413,     0.13514,     0.13614,     0.13714,     0.13814,     0.13914,     0.14014,     0.14114,     0.14214,     0.14314,\n",
       "           0.14414,     0.14515,     0.14615,     0.14715,     0.14815,     0.14915,     0.15015,     0.15115,     0.15215,     0.15315,     0.15415,     0.15516,     0.15616,     0.15716,     0.15816,     0.15916,     0.16016,     0.16116,     0.16216,     0.16316,     0.16416,     0.16517,     0.16617,     0.16717,\n",
       "           0.16817,     0.16917,     0.17017,     0.17117,     0.17217,     0.17317,     0.17417,     0.17518,     0.17618,     0.17718,     0.17818,     0.17918,     0.18018,     0.18118,     0.18218,     0.18318,     0.18418,     0.18519,     0.18619,     0.18719,     0.18819,     0.18919,     0.19019,     0.19119,\n",
       "           0.19219,     0.19319,     0.19419,      0.1952,      0.1962,      0.1972,      0.1982,      0.1992,      0.2002,      0.2012,      0.2022,      0.2032,      0.2042,     0.20521,     0.20621,     0.20721,     0.20821,     0.20921,     0.21021,     0.21121,     0.21221,     0.21321,     0.21421,     0.21522,\n",
       "           0.21622,     0.21722,     0.21822,     0.21922,     0.22022,     0.22122,     0.22222,     0.22322,     0.22422,     0.22523,     0.22623,     0.22723,     0.22823,     0.22923,     0.23023,     0.23123,     0.23223,     0.23323,     0.23423,     0.23524,     0.23624,     0.23724,     0.23824,     0.23924,\n",
       "           0.24024,     0.24124,     0.24224,     0.24324,     0.24424,     0.24525,     0.24625,     0.24725,     0.24825,     0.24925,     0.25025,     0.25125,     0.25225,     0.25325,     0.25425,     0.25526,     0.25626,     0.25726,     0.25826,     0.25926,     0.26026,     0.26126,     0.26226,     0.26326,\n",
       "           0.26426,     0.26527,     0.26627,     0.26727,     0.26827,     0.26927,     0.27027,     0.27127,     0.27227,     0.27327,     0.27427,     0.27528,     0.27628,     0.27728,     0.27828,     0.27928,     0.28028,     0.28128,     0.28228,     0.28328,     0.28428,     0.28529,     0.28629,     0.28729,\n",
       "           0.28829,     0.28929,     0.29029,     0.29129,     0.29229,     0.29329,     0.29429,      0.2953,      0.2963,      0.2973,      0.2983,      0.2993,      0.3003,      0.3013,      0.3023,      0.3033,      0.3043,     0.30531,     0.30631,     0.30731,     0.30831,     0.30931,     0.31031,     0.31131,\n",
       "           0.31231,     0.31331,     0.31431,     0.31532,     0.31632,     0.31732,     0.31832,     0.31932,     0.32032,     0.32132,     0.32232,     0.32332,     0.32432,     0.32533,     0.32633,     0.32733,     0.32833,     0.32933,     0.33033,     0.33133,     0.33233,     0.33333,     0.33433,     0.33534,\n",
       "           0.33634,     0.33734,     0.33834,     0.33934,     0.34034,     0.34134,     0.34234,     0.34334,     0.34434,     0.34535,     0.34635,     0.34735,     0.34835,     0.34935,     0.35035,     0.35135,     0.35235,     0.35335,     0.35435,     0.35536,     0.35636,     0.35736,     0.35836,     0.35936,\n",
       "           0.36036,     0.36136,     0.36236,     0.36336,     0.36436,     0.36537,     0.36637,     0.36737,     0.36837,     0.36937,     0.37037,     0.37137,     0.37237,     0.37337,     0.37437,     0.37538,     0.37638,     0.37738,     0.37838,     0.37938,     0.38038,     0.38138,     0.38238,     0.38338,\n",
       "           0.38438,     0.38539,     0.38639,     0.38739,     0.38839,     0.38939,     0.39039,     0.39139,     0.39239,     0.39339,     0.39439,      0.3954,      0.3964,      0.3974,      0.3984,      0.3994,      0.4004,      0.4014,      0.4024,      0.4034,      0.4044,     0.40541,     0.40641,     0.40741,\n",
       "           0.40841,     0.40941,     0.41041,     0.41141,     0.41241,     0.41341,     0.41441,     0.41542,     0.41642,     0.41742,     0.41842,     0.41942,     0.42042,     0.42142,     0.42242,     0.42342,     0.42442,     0.42543,     0.42643,     0.42743,     0.42843,     0.42943,     0.43043,     0.43143,\n",
       "           0.43243,     0.43343,     0.43443,     0.43544,     0.43644,     0.43744,     0.43844,     0.43944,     0.44044,     0.44144,     0.44244,     0.44344,     0.44444,     0.44545,     0.44645,     0.44745,     0.44845,     0.44945,     0.45045,     0.45145,     0.45245,     0.45345,     0.45445,     0.45546,\n",
       "           0.45646,     0.45746,     0.45846,     0.45946,     0.46046,     0.46146,     0.46246,     0.46346,     0.46446,     0.46547,     0.46647,     0.46747,     0.46847,     0.46947,     0.47047,     0.47147,     0.47247,     0.47347,     0.47447,     0.47548,     0.47648,     0.47748,     0.47848,     0.47948,\n",
       "           0.48048,     0.48148,     0.48248,     0.48348,     0.48448,     0.48549,     0.48649,     0.48749,     0.48849,     0.48949,     0.49049,     0.49149,     0.49249,     0.49349,     0.49449,      0.4955,      0.4965,      0.4975,      0.4985,      0.4995,      0.5005,      0.5015,      0.5025,      0.5035,\n",
       "            0.5045,     0.50551,     0.50651,     0.50751,     0.50851,     0.50951,     0.51051,     0.51151,     0.51251,     0.51351,     0.51451,     0.51552,     0.51652,     0.51752,     0.51852,     0.51952,     0.52052,     0.52152,     0.52252,     0.52352,     0.52452,     0.52553,     0.52653,     0.52753,\n",
       "           0.52853,     0.52953,     0.53053,     0.53153,     0.53253,     0.53353,     0.53453,     0.53554,     0.53654,     0.53754,     0.53854,     0.53954,     0.54054,     0.54154,     0.54254,     0.54354,     0.54454,     0.54555,     0.54655,     0.54755,     0.54855,     0.54955,     0.55055,     0.55155,\n",
       "           0.55255,     0.55355,     0.55455,     0.55556,     0.55656,     0.55756,     0.55856,     0.55956,     0.56056,     0.56156,     0.56256,     0.56356,     0.56456,     0.56557,     0.56657,     0.56757,     0.56857,     0.56957,     0.57057,     0.57157,     0.57257,     0.57357,     0.57457,     0.57558,\n",
       "           0.57658,     0.57758,     0.57858,     0.57958,     0.58058,     0.58158,     0.58258,     0.58358,     0.58458,     0.58559,     0.58659,     0.58759,     0.58859,     0.58959,     0.59059,     0.59159,     0.59259,     0.59359,     0.59459,      0.5956,      0.5966,      0.5976,      0.5986,      0.5996,\n",
       "            0.6006,      0.6016,      0.6026,      0.6036,      0.6046,     0.60561,     0.60661,     0.60761,     0.60861,     0.60961,     0.61061,     0.61161,     0.61261,     0.61361,     0.61461,     0.61562,     0.61662,     0.61762,     0.61862,     0.61962,     0.62062,     0.62162,     0.62262,     0.62362,\n",
       "           0.62462,     0.62563,     0.62663,     0.62763,     0.62863,     0.62963,     0.63063,     0.63163,     0.63263,     0.63363,     0.63463,     0.63564,     0.63664,     0.63764,     0.63864,     0.63964,     0.64064,     0.64164,     0.64264,     0.64364,     0.64464,     0.64565,     0.64665,     0.64765,\n",
       "           0.64865,     0.64965,     0.65065,     0.65165,     0.65265,     0.65365,     0.65465,     0.65566,     0.65666,     0.65766,     0.65866,     0.65966,     0.66066,     0.66166,     0.66266,     0.66366,     0.66466,     0.66567,     0.66667,     0.66767,     0.66867,     0.66967,     0.67067,     0.67167,\n",
       "           0.67267,     0.67367,     0.67467,     0.67568,     0.67668,     0.67768,     0.67868,     0.67968,     0.68068,     0.68168,     0.68268,     0.68368,     0.68468,     0.68569,     0.68669,     0.68769,     0.68869,     0.68969,     0.69069,     0.69169,     0.69269,     0.69369,     0.69469,      0.6957,\n",
       "            0.6967,      0.6977,      0.6987,      0.6997,      0.7007,      0.7017,      0.7027,      0.7037,      0.7047,     0.70571,     0.70671,     0.70771,     0.70871,     0.70971,     0.71071,     0.71171,     0.71271,     0.71371,     0.71471,     0.71572,     0.71672,     0.71772,     0.71872,     0.71972,\n",
       "           0.72072,     0.72172,     0.72272,     0.72372,     0.72472,     0.72573,     0.72673,     0.72773,     0.72873,     0.72973,     0.73073,     0.73173,     0.73273,     0.73373,     0.73473,     0.73574,     0.73674,     0.73774,     0.73874,     0.73974,     0.74074,     0.74174,     0.74274,     0.74374,\n",
       "           0.74474,     0.74575,     0.74675,     0.74775,     0.74875,     0.74975,     0.75075,     0.75175,     0.75275,     0.75375,     0.75475,     0.75576,     0.75676,     0.75776,     0.75876,     0.75976,     0.76076,     0.76176,     0.76276,     0.76376,     0.76476,     0.76577,     0.76677,     0.76777,\n",
       "           0.76877,     0.76977,     0.77077,     0.77177,     0.77277,     0.77377,     0.77477,     0.77578,     0.77678,     0.77778,     0.77878,     0.77978,     0.78078,     0.78178,     0.78278,     0.78378,     0.78478,     0.78579,     0.78679,     0.78779,     0.78879,     0.78979,     0.79079,     0.79179,\n",
       "           0.79279,     0.79379,     0.79479,      0.7958,      0.7968,      0.7978,      0.7988,      0.7998,      0.8008,      0.8018,      0.8028,      0.8038,      0.8048,     0.80581,     0.80681,     0.80781,     0.80881,     0.80981,     0.81081,     0.81181,     0.81281,     0.81381,     0.81481,     0.81582,\n",
       "           0.81682,     0.81782,     0.81882,     0.81982,     0.82082,     0.82182,     0.82282,     0.82382,     0.82482,     0.82583,     0.82683,     0.82783,     0.82883,     0.82983,     0.83083,     0.83183,     0.83283,     0.83383,     0.83483,     0.83584,     0.83684,     0.83784,     0.83884,     0.83984,\n",
       "           0.84084,     0.84184,     0.84284,     0.84384,     0.84484,     0.84585,     0.84685,     0.84785,     0.84885,     0.84985,     0.85085,     0.85185,     0.85285,     0.85385,     0.85485,     0.85586,     0.85686,     0.85786,     0.85886,     0.85986,     0.86086,     0.86186,     0.86286,     0.86386,\n",
       "           0.86486,     0.86587,     0.86687,     0.86787,     0.86887,     0.86987,     0.87087,     0.87187,     0.87287,     0.87387,     0.87487,     0.87588,     0.87688,     0.87788,     0.87888,     0.87988,     0.88088,     0.88188,     0.88288,     0.88388,     0.88488,     0.88589,     0.88689,     0.88789,\n",
       "           0.88889,     0.88989,     0.89089,     0.89189,     0.89289,     0.89389,     0.89489,      0.8959,      0.8969,      0.8979,      0.8989,      0.8999,      0.9009,      0.9019,      0.9029,      0.9039,      0.9049,     0.90591,     0.90691,     0.90791,     0.90891,     0.90991,     0.91091,     0.91191,\n",
       "           0.91291,     0.91391,     0.91491,     0.91592,     0.91692,     0.91792,     0.91892,     0.91992,     0.92092,     0.92192,     0.92292,     0.92392,     0.92492,     0.92593,     0.92693,     0.92793,     0.92893,     0.92993,     0.93093,     0.93193,     0.93293,     0.93393,     0.93493,     0.93594,\n",
       "           0.93694,     0.93794,     0.93894,     0.93994,     0.94094,     0.94194,     0.94294,     0.94394,     0.94494,     0.94595,     0.94695,     0.94795,     0.94895,     0.94995,     0.95095,     0.95195,     0.95295,     0.95395,     0.95495,     0.95596,     0.95696,     0.95796,     0.95896,     0.95996,\n",
       "           0.96096,     0.96196,     0.96296,     0.96396,     0.96496,     0.96597,     0.96697,     0.96797,     0.96897,     0.96997,     0.97097,     0.97197,     0.97297,     0.97397,     0.97497,     0.97598,     0.97698,     0.97798,     0.97898,     0.97998,     0.98098,     0.98198,     0.98298,     0.98398,\n",
       "           0.98498,     0.98599,     0.98699,     0.98799,     0.98899,     0.98999,     0.99099,     0.99199,     0.99299,     0.99399,     0.99499,       0.996,       0.997,       0.998,       0.999,           1]), array([[    0.16032,     0.16076,     0.35241,     0.44258,     0.46964,     0.49951,     0.53513,      0.5524,     0.57034,     0.60213,     0.61499,     0.62536,     0.62789,     0.64555,     0.64782,     0.65783,     0.66442,     0.66952,      0.6748,     0.67657,     0.68093,     0.68422,     0.68585,\n",
       "            0.68799,     0.69285,     0.70617,     0.70804,      0.7097,     0.71066,     0.70967,     0.71039,      0.7213,     0.72536,     0.72811,     0.72953,     0.73094,     0.73345,     0.73689,     0.73902,     0.74447,      0.7452,     0.74594,     0.74668,     0.74742,     0.74816,     0.75075,\n",
       "            0.75732,      0.7609,     0.76233,     0.76376,     0.76492,     0.76556,     0.76619,     0.76683,     0.76747,      0.7681,     0.76874,     0.77012,     0.77375,     0.77296,     0.77335,     0.77586,     0.77843,     0.78106,     0.78768,      0.7929,      0.7944,     0.79589,     0.80128,\n",
       "            0.80188,     0.80248,     0.80309,     0.80369,     0.80429,      0.8049,      0.8055,      0.8061,     0.80683,      0.8076,     0.80836,     0.80913,      0.8099,     0.81066,     0.81163,     0.81373,     0.81583,     0.81842,     0.82123,     0.83282,     0.83436,      0.8359,     0.83744,\n",
       "            0.83721,     0.83669,      0.8363,     0.83594,     0.83558,     0.83967,     0.85044,       0.857,     0.86413,     0.86511,     0.86609,     0.86706,     0.86804,     0.86902,     0.87593,     0.87786,     0.87979,     0.88172,     0.88271,     0.88358,     0.88444,     0.88531,     0.88617,\n",
       "            0.88704,      0.8879,     0.88886,     0.88985,     0.89084,     0.89183,     0.89282,     0.89381,     0.89523,      0.8972,     0.89916,     0.90069,      0.9006,     0.90051,     0.90041,     0.90032,     0.90023,     0.90014,     0.90005,     0.90057,     0.90172,     0.90288,     0.90403,\n",
       "            0.90518,     0.90634,     0.90608,     0.90591,     0.90621,     0.90651,     0.90681,     0.90711,     0.90741,      0.9077,       0.908,      0.9083,      0.9086,      0.9089,      0.9092,      0.9095,      0.9098,      0.9101,      0.9104,      0.9107,       0.911,      0.9113,     0.91159,\n",
       "            0.91189,     0.91219,     0.91266,     0.91355,     0.91444,     0.91533,     0.91622,     0.91711,     0.91799,     0.91888,     0.91907,     0.91901,     0.91895,     0.91889,     0.91883,     0.91877,     0.91871,     0.91865,     0.91859,     0.91853,     0.91939,     0.92056,     0.92173,\n",
       "             0.9229,     0.92407,     0.92525,     0.92521,     0.92503,     0.92484,     0.92908,     0.93358,     0.93732,     0.93864,     0.93844,     0.93841,     0.93838,     0.93835,     0.93833,      0.9383,     0.93827,     0.93824,     0.93821,     0.93818,     0.93815,     0.93812,     0.93809,\n",
       "            0.93806,     0.93803,       0.938,     0.94136,     0.94494,     0.94487,     0.94485,     0.94484,     0.94482,      0.9448,     0.94479,     0.94477,     0.94476,     0.94474,     0.94473,     0.94471,     0.94469,     0.94468,     0.94466,     0.94465,     0.94463,     0.94461,      0.9446,\n",
       "            0.94458,     0.94457,     0.94455,     0.94454,     0.94452,      0.9445,     0.94449,     0.94447,     0.94446,     0.94449,     0.94468,     0.94486,     0.94504,     0.94523,     0.94541,     0.94559,     0.94578,     0.94596,     0.94614,     0.94633,     0.94651,     0.94669,     0.94688,\n",
       "            0.94706,     0.94724,     0.94743,     0.94761,     0.94779,     0.94798,     0.94816,     0.94835,     0.94853,     0.94871,      0.9489,     0.94908,     0.94926,     0.94945,     0.94963,     0.94981,        0.95,     0.95018,     0.95036,     0.95055,     0.95073,     0.95091,      0.9511,\n",
       "            0.95128,     0.95146,     0.95165,     0.95183,       0.952,     0.95197,     0.95194,     0.95191,     0.95188,     0.95185,     0.95182,     0.95179,     0.95176,     0.95173,      0.9517,     0.95167,     0.95164,      0.9516,     0.95155,      0.9515,     0.95145,      0.9514,     0.95135,\n",
       "             0.9513,     0.95125,     0.95118,      0.9511,     0.95102,     0.95094,     0.95086,     0.95078,     0.95072,     0.95065,     0.95059,     0.95052,     0.95045,      0.9509,     0.95213,     0.95335,     0.95458,      0.9558,     0.95703,     0.95825,      0.9582,     0.95805,     0.95797,\n",
       "            0.95794,     0.95791,     0.95787,     0.95784,     0.95781,     0.95778,     0.95775,     0.95772,     0.95769,     0.95766,     0.95763,      0.9576,     0.95758,     0.95756,     0.95753,     0.95751,     0.95748,     0.95746,     0.95744,     0.95741,     0.95739,     0.95736,     0.95734,\n",
       "            0.95732,     0.95729,     0.95727,     0.95767,     0.95812,     0.95857,     0.95902,     0.95947,     0.95993,     0.96038,     0.96083,     0.96128,     0.96173,     0.96218,     0.96263,     0.96308,     0.96353,     0.96399,     0.96444,     0.96489,     0.96534,     0.96551,     0.96549,\n",
       "            0.96548,     0.96546,     0.96544,     0.96543,     0.96541,      0.9654,     0.96538,     0.96536,     0.96535,     0.96533,     0.96531,      0.9653,     0.96528,     0.96527,     0.96525,     0.96523,     0.96522,     0.96518,     0.96513,     0.96508,     0.96504,     0.96499,     0.96495,\n",
       "             0.9649,     0.96486,     0.96482,     0.96478,     0.96474,      0.9647,     0.96466,     0.96462,     0.96458,     0.96453,     0.96448,     0.96443,     0.96438,     0.96433,     0.96428,     0.96426,     0.96425,     0.96423,     0.96421,      0.9642,     0.96418,     0.96416,     0.96415,\n",
       "            0.96413,     0.96411,     0.96409,     0.96408,     0.96406,     0.96404,     0.96403,     0.96401,     0.96399,     0.96397,     0.96394,     0.96389,     0.96384,     0.96378,     0.96373,     0.96368,     0.96362,     0.96355,     0.96348,     0.96341,     0.96334,     0.96326,     0.96316,\n",
       "            0.96306,     0.96296,     0.96278,     0.96262,      0.9626,     0.96258,     0.96257,     0.96255,     0.96254,     0.96252,      0.9625,     0.96249,     0.96247,     0.96246,     0.96244,     0.96242,     0.96241,     0.96239,     0.96238,     0.96236,     0.96234,     0.96233,     0.96231,\n",
       "             0.9623,     0.96228,     0.96226,     0.96182,      0.9617,     0.96158,     0.96146,     0.96135,     0.96123,     0.96116,     0.96114,     0.96112,      0.9611,     0.96108,     0.96106,     0.96104,     0.96101,     0.96099,     0.96097,     0.96095,     0.96093,     0.96091,     0.96089,\n",
       "            0.96087,     0.96085,     0.96083,     0.96081,     0.96079,     0.96058,     0.96038,     0.96036,     0.96033,     0.96031,     0.96028,     0.96026,     0.96023,     0.96021,     0.96018,     0.96015,     0.96013,      0.9601,     0.96008,     0.96005,     0.96003,        0.96,     0.95997,\n",
       "            0.95994,     0.95991,     0.95988,     0.95986,     0.95983,      0.9598,     0.95977,     0.95974,     0.95971,     0.95968,     0.95965,     0.95962,     0.95964,     0.96136,     0.96308,      0.9648,     0.96652,     0.96824,     0.97129,     0.97703,     0.97934,     0.97926,     0.97919,\n",
       "            0.97916,     0.97916,     0.97915,     0.97914,     0.97914,     0.97913,     0.97912,     0.97912,     0.97911,      0.9791,      0.9791,     0.97909,     0.97908,     0.97908,     0.97907,     0.97906,     0.97906,     0.97905,     0.97904,     0.97904,     0.97903,     0.97902,     0.97902,\n",
       "            0.97901,       0.979,       0.979,     0.97899,     0.97899,     0.97898,     0.97897,     0.97897,     0.97896,     0.97895,     0.97965,     0.98265,     0.98565,     0.98864,     0.98935,     0.98933,     0.98932,      0.9893,     0.98929,     0.98927,     0.98925,     0.98923,      0.9892,\n",
       "            0.98917,     0.98914,     0.98913,     0.98912,     0.98911,      0.9891,     0.98909,     0.98909,     0.98908,     0.98907,     0.98906,     0.98905,     0.98904,     0.98904,     0.98903,     0.98902,     0.98901,      0.9992,           1,           1,           1,           1,           1,\n",
       "                  1,           1,           1,           1,           1,           1,           1,           1,           1,           1,           1,           1,           1,           1,           1,           1,           1,           1,           1,           1,           1,           1,           1,\n",
       "                  1,           1,           1,           1,           1,           1,           1,           1,           1,           1,           1,           1,           1,           1,           1,           1,           1,           1,           1,           1,           1,           1,           1,\n",
       "                  1,           1,           1,           1,           1,           1,           1,           1,           1,           1,           1,           1,           1,           1,           1,           1,           1,           1,           1,           1,           1,           1,           1,\n",
       "                  1,           1,           1,           1,           1,           1,           1,           1,           1,           1,           1,           1,           1,           1,           1,           1,           1,           1,           1,           1,           1,           1,           1,\n",
       "                  1,           1,           1,           1,           1,           1,           1,           1,           1,           1,           1,           1,           1,           1,           1,           1,           1,           1,           1,           1,           1,           1,           1,\n",
       "                  1,           1,           1,           1,           1,           1,           1,           1,           1,           1,           1,           1,           1,           1,           1,           1,           1,           1,           1,           1,           1,           1,           1,\n",
       "                  1,           1,           1,           1,           1,           1,           1,           1,           1,           1,           1,           1,           1,           1,           1,           1,           1,           1,           1,           1,           1,           1,           1,\n",
       "                  1,           1,           1,           1,           1,           1,           1,           1,           1,           1,           1,           1,           1,           1,           1,           1,           1,           1,           1,           1,           1,           1,           1,\n",
       "                  1,           1,           1,           1,           1,           1,           1,           1,           1,           1,           1,           1,           1,           1,           1,           1,           1,           1,           1,           1,           1,           1,           1,\n",
       "                  1,           1,           1,           1,           1,           1,           1,           1,           1,           1,           1,           1,           1,           1,           1,           1,           1,           1,           1,           1,           1,           1,           1,\n",
       "                  1,           1,           1,           1,           1,           1,           1,           1,           1,           1,           1,           1,           1,           1,           1,           1,           1,           1,           1,           1,           1,           1,           1,\n",
       "                  1,           1,           1,           1,           1,           1,           1,           1,           1,           1,           1,           1,           1,           1,           1,           1,           1,           1,           1,           1,           1,           1,           1,\n",
       "                  1,           1,           1,           1,           1,           1,           1,           1,           1,           1,           1,           1,           1,           1,           1,           1,           1,           1,           1,           1,           1,           1,           1,\n",
       "                  1,           1,           1,           1,           1,           1,           1,           1,           1,           1,           1,           1,           1,           1,           1,           1,           1,           1,           1,           1,           1,           1,           1,\n",
       "                  1,           1,           1,           1,           1,           1,           1,           1,           1,           1,           1,           1,           1,           1,           1,           1,           1,           1,           1,           1,           1,           1,           1,\n",
       "                  1,           1,           1,           1,           1,           1,           1,           1,           1,           1,           1,           1,           1,           1,           1,           1,           1,           1,           1,           1,           1,           1,           1,\n",
       "                  1,           1,           1,           1,           1,           1,           1,           1,           1,           1,           1,           1,           1,           1,           1,           1,           1,           1,           1,           1,           1,           1,           1,\n",
       "                  1,           1,           1,           1,           1,           1,           1,           1,           1,           1,           1]]), 'Confidence', 'Precision'], [array([          0,    0.001001,    0.002002,    0.003003,    0.004004,    0.005005,    0.006006,    0.007007,    0.008008,    0.009009,     0.01001,    0.011011,    0.012012,    0.013013,    0.014014,    0.015015,    0.016016,    0.017017,    0.018018,    0.019019,     0.02002,    0.021021,    0.022022,    0.023023,\n",
       "          0.024024,    0.025025,    0.026026,    0.027027,    0.028028,    0.029029,     0.03003,    0.031031,    0.032032,    0.033033,    0.034034,    0.035035,    0.036036,    0.037037,    0.038038,    0.039039,     0.04004,    0.041041,    0.042042,    0.043043,    0.044044,    0.045045,    0.046046,    0.047047,\n",
       "          0.048048,    0.049049,     0.05005,    0.051051,    0.052052,    0.053053,    0.054054,    0.055055,    0.056056,    0.057057,    0.058058,    0.059059,     0.06006,    0.061061,    0.062062,    0.063063,    0.064064,    0.065065,    0.066066,    0.067067,    0.068068,    0.069069,     0.07007,    0.071071,\n",
       "          0.072072,    0.073073,    0.074074,    0.075075,    0.076076,    0.077077,    0.078078,    0.079079,     0.08008,    0.081081,    0.082082,    0.083083,    0.084084,    0.085085,    0.086086,    0.087087,    0.088088,    0.089089,     0.09009,    0.091091,    0.092092,    0.093093,    0.094094,    0.095095,\n",
       "          0.096096,    0.097097,    0.098098,    0.099099,      0.1001,      0.1011,      0.1021,      0.1031,      0.1041,     0.10511,     0.10611,     0.10711,     0.10811,     0.10911,     0.11011,     0.11111,     0.11211,     0.11311,     0.11411,     0.11512,     0.11612,     0.11712,     0.11812,     0.11912,\n",
       "           0.12012,     0.12112,     0.12212,     0.12312,     0.12412,     0.12513,     0.12613,     0.12713,     0.12813,     0.12913,     0.13013,     0.13113,     0.13213,     0.13313,     0.13413,     0.13514,     0.13614,     0.13714,     0.13814,     0.13914,     0.14014,     0.14114,     0.14214,     0.14314,\n",
       "           0.14414,     0.14515,     0.14615,     0.14715,     0.14815,     0.14915,     0.15015,     0.15115,     0.15215,     0.15315,     0.15415,     0.15516,     0.15616,     0.15716,     0.15816,     0.15916,     0.16016,     0.16116,     0.16216,     0.16316,     0.16416,     0.16517,     0.16617,     0.16717,\n",
       "           0.16817,     0.16917,     0.17017,     0.17117,     0.17217,     0.17317,     0.17417,     0.17518,     0.17618,     0.17718,     0.17818,     0.17918,     0.18018,     0.18118,     0.18218,     0.18318,     0.18418,     0.18519,     0.18619,     0.18719,     0.18819,     0.18919,     0.19019,     0.19119,\n",
       "           0.19219,     0.19319,     0.19419,      0.1952,      0.1962,      0.1972,      0.1982,      0.1992,      0.2002,      0.2012,      0.2022,      0.2032,      0.2042,     0.20521,     0.20621,     0.20721,     0.20821,     0.20921,     0.21021,     0.21121,     0.21221,     0.21321,     0.21421,     0.21522,\n",
       "           0.21622,     0.21722,     0.21822,     0.21922,     0.22022,     0.22122,     0.22222,     0.22322,     0.22422,     0.22523,     0.22623,     0.22723,     0.22823,     0.22923,     0.23023,     0.23123,     0.23223,     0.23323,     0.23423,     0.23524,     0.23624,     0.23724,     0.23824,     0.23924,\n",
       "           0.24024,     0.24124,     0.24224,     0.24324,     0.24424,     0.24525,     0.24625,     0.24725,     0.24825,     0.24925,     0.25025,     0.25125,     0.25225,     0.25325,     0.25425,     0.25526,     0.25626,     0.25726,     0.25826,     0.25926,     0.26026,     0.26126,     0.26226,     0.26326,\n",
       "           0.26426,     0.26527,     0.26627,     0.26727,     0.26827,     0.26927,     0.27027,     0.27127,     0.27227,     0.27327,     0.27427,     0.27528,     0.27628,     0.27728,     0.27828,     0.27928,     0.28028,     0.28128,     0.28228,     0.28328,     0.28428,     0.28529,     0.28629,     0.28729,\n",
       "           0.28829,     0.28929,     0.29029,     0.29129,     0.29229,     0.29329,     0.29429,      0.2953,      0.2963,      0.2973,      0.2983,      0.2993,      0.3003,      0.3013,      0.3023,      0.3033,      0.3043,     0.30531,     0.30631,     0.30731,     0.30831,     0.30931,     0.31031,     0.31131,\n",
       "           0.31231,     0.31331,     0.31431,     0.31532,     0.31632,     0.31732,     0.31832,     0.31932,     0.32032,     0.32132,     0.32232,     0.32332,     0.32432,     0.32533,     0.32633,     0.32733,     0.32833,     0.32933,     0.33033,     0.33133,     0.33233,     0.33333,     0.33433,     0.33534,\n",
       "           0.33634,     0.33734,     0.33834,     0.33934,     0.34034,     0.34134,     0.34234,     0.34334,     0.34434,     0.34535,     0.34635,     0.34735,     0.34835,     0.34935,     0.35035,     0.35135,     0.35235,     0.35335,     0.35435,     0.35536,     0.35636,     0.35736,     0.35836,     0.35936,\n",
       "           0.36036,     0.36136,     0.36236,     0.36336,     0.36436,     0.36537,     0.36637,     0.36737,     0.36837,     0.36937,     0.37037,     0.37137,     0.37237,     0.37337,     0.37437,     0.37538,     0.37638,     0.37738,     0.37838,     0.37938,     0.38038,     0.38138,     0.38238,     0.38338,\n",
       "           0.38438,     0.38539,     0.38639,     0.38739,     0.38839,     0.38939,     0.39039,     0.39139,     0.39239,     0.39339,     0.39439,      0.3954,      0.3964,      0.3974,      0.3984,      0.3994,      0.4004,      0.4014,      0.4024,      0.4034,      0.4044,     0.40541,     0.40641,     0.40741,\n",
       "           0.40841,     0.40941,     0.41041,     0.41141,     0.41241,     0.41341,     0.41441,     0.41542,     0.41642,     0.41742,     0.41842,     0.41942,     0.42042,     0.42142,     0.42242,     0.42342,     0.42442,     0.42543,     0.42643,     0.42743,     0.42843,     0.42943,     0.43043,     0.43143,\n",
       "           0.43243,     0.43343,     0.43443,     0.43544,     0.43644,     0.43744,     0.43844,     0.43944,     0.44044,     0.44144,     0.44244,     0.44344,     0.44444,     0.44545,     0.44645,     0.44745,     0.44845,     0.44945,     0.45045,     0.45145,     0.45245,     0.45345,     0.45445,     0.45546,\n",
       "           0.45646,     0.45746,     0.45846,     0.45946,     0.46046,     0.46146,     0.46246,     0.46346,     0.46446,     0.46547,     0.46647,     0.46747,     0.46847,     0.46947,     0.47047,     0.47147,     0.47247,     0.47347,     0.47447,     0.47548,     0.47648,     0.47748,     0.47848,     0.47948,\n",
       "           0.48048,     0.48148,     0.48248,     0.48348,     0.48448,     0.48549,     0.48649,     0.48749,     0.48849,     0.48949,     0.49049,     0.49149,     0.49249,     0.49349,     0.49449,      0.4955,      0.4965,      0.4975,      0.4985,      0.4995,      0.5005,      0.5015,      0.5025,      0.5035,\n",
       "            0.5045,     0.50551,     0.50651,     0.50751,     0.50851,     0.50951,     0.51051,     0.51151,     0.51251,     0.51351,     0.51451,     0.51552,     0.51652,     0.51752,     0.51852,     0.51952,     0.52052,     0.52152,     0.52252,     0.52352,     0.52452,     0.52553,     0.52653,     0.52753,\n",
       "           0.52853,     0.52953,     0.53053,     0.53153,     0.53253,     0.53353,     0.53453,     0.53554,     0.53654,     0.53754,     0.53854,     0.53954,     0.54054,     0.54154,     0.54254,     0.54354,     0.54454,     0.54555,     0.54655,     0.54755,     0.54855,     0.54955,     0.55055,     0.55155,\n",
       "           0.55255,     0.55355,     0.55455,     0.55556,     0.55656,     0.55756,     0.55856,     0.55956,     0.56056,     0.56156,     0.56256,     0.56356,     0.56456,     0.56557,     0.56657,     0.56757,     0.56857,     0.56957,     0.57057,     0.57157,     0.57257,     0.57357,     0.57457,     0.57558,\n",
       "           0.57658,     0.57758,     0.57858,     0.57958,     0.58058,     0.58158,     0.58258,     0.58358,     0.58458,     0.58559,     0.58659,     0.58759,     0.58859,     0.58959,     0.59059,     0.59159,     0.59259,     0.59359,     0.59459,      0.5956,      0.5966,      0.5976,      0.5986,      0.5996,\n",
       "            0.6006,      0.6016,      0.6026,      0.6036,      0.6046,     0.60561,     0.60661,     0.60761,     0.60861,     0.60961,     0.61061,     0.61161,     0.61261,     0.61361,     0.61461,     0.61562,     0.61662,     0.61762,     0.61862,     0.61962,     0.62062,     0.62162,     0.62262,     0.62362,\n",
       "           0.62462,     0.62563,     0.62663,     0.62763,     0.62863,     0.62963,     0.63063,     0.63163,     0.63263,     0.63363,     0.63463,     0.63564,     0.63664,     0.63764,     0.63864,     0.63964,     0.64064,     0.64164,     0.64264,     0.64364,     0.64464,     0.64565,     0.64665,     0.64765,\n",
       "           0.64865,     0.64965,     0.65065,     0.65165,     0.65265,     0.65365,     0.65465,     0.65566,     0.65666,     0.65766,     0.65866,     0.65966,     0.66066,     0.66166,     0.66266,     0.66366,     0.66466,     0.66567,     0.66667,     0.66767,     0.66867,     0.66967,     0.67067,     0.67167,\n",
       "           0.67267,     0.67367,     0.67467,     0.67568,     0.67668,     0.67768,     0.67868,     0.67968,     0.68068,     0.68168,     0.68268,     0.68368,     0.68468,     0.68569,     0.68669,     0.68769,     0.68869,     0.68969,     0.69069,     0.69169,     0.69269,     0.69369,     0.69469,      0.6957,\n",
       "            0.6967,      0.6977,      0.6987,      0.6997,      0.7007,      0.7017,      0.7027,      0.7037,      0.7047,     0.70571,     0.70671,     0.70771,     0.70871,     0.70971,     0.71071,     0.71171,     0.71271,     0.71371,     0.71471,     0.71572,     0.71672,     0.71772,     0.71872,     0.71972,\n",
       "           0.72072,     0.72172,     0.72272,     0.72372,     0.72472,     0.72573,     0.72673,     0.72773,     0.72873,     0.72973,     0.73073,     0.73173,     0.73273,     0.73373,     0.73473,     0.73574,     0.73674,     0.73774,     0.73874,     0.73974,     0.74074,     0.74174,     0.74274,     0.74374,\n",
       "           0.74474,     0.74575,     0.74675,     0.74775,     0.74875,     0.74975,     0.75075,     0.75175,     0.75275,     0.75375,     0.75475,     0.75576,     0.75676,     0.75776,     0.75876,     0.75976,     0.76076,     0.76176,     0.76276,     0.76376,     0.76476,     0.76577,     0.76677,     0.76777,\n",
       "           0.76877,     0.76977,     0.77077,     0.77177,     0.77277,     0.77377,     0.77477,     0.77578,     0.77678,     0.77778,     0.77878,     0.77978,     0.78078,     0.78178,     0.78278,     0.78378,     0.78478,     0.78579,     0.78679,     0.78779,     0.78879,     0.78979,     0.79079,     0.79179,\n",
       "           0.79279,     0.79379,     0.79479,      0.7958,      0.7968,      0.7978,      0.7988,      0.7998,      0.8008,      0.8018,      0.8028,      0.8038,      0.8048,     0.80581,     0.80681,     0.80781,     0.80881,     0.80981,     0.81081,     0.81181,     0.81281,     0.81381,     0.81481,     0.81582,\n",
       "           0.81682,     0.81782,     0.81882,     0.81982,     0.82082,     0.82182,     0.82282,     0.82382,     0.82482,     0.82583,     0.82683,     0.82783,     0.82883,     0.82983,     0.83083,     0.83183,     0.83283,     0.83383,     0.83483,     0.83584,     0.83684,     0.83784,     0.83884,     0.83984,\n",
       "           0.84084,     0.84184,     0.84284,     0.84384,     0.84484,     0.84585,     0.84685,     0.84785,     0.84885,     0.84985,     0.85085,     0.85185,     0.85285,     0.85385,     0.85485,     0.85586,     0.85686,     0.85786,     0.85886,     0.85986,     0.86086,     0.86186,     0.86286,     0.86386,\n",
       "           0.86486,     0.86587,     0.86687,     0.86787,     0.86887,     0.86987,     0.87087,     0.87187,     0.87287,     0.87387,     0.87487,     0.87588,     0.87688,     0.87788,     0.87888,     0.87988,     0.88088,     0.88188,     0.88288,     0.88388,     0.88488,     0.88589,     0.88689,     0.88789,\n",
       "           0.88889,     0.88989,     0.89089,     0.89189,     0.89289,     0.89389,     0.89489,      0.8959,      0.8969,      0.8979,      0.8989,      0.8999,      0.9009,      0.9019,      0.9029,      0.9039,      0.9049,     0.90591,     0.90691,     0.90791,     0.90891,     0.90991,     0.91091,     0.91191,\n",
       "           0.91291,     0.91391,     0.91491,     0.91592,     0.91692,     0.91792,     0.91892,     0.91992,     0.92092,     0.92192,     0.92292,     0.92392,     0.92492,     0.92593,     0.92693,     0.92793,     0.92893,     0.92993,     0.93093,     0.93193,     0.93293,     0.93393,     0.93493,     0.93594,\n",
       "           0.93694,     0.93794,     0.93894,     0.93994,     0.94094,     0.94194,     0.94294,     0.94394,     0.94494,     0.94595,     0.94695,     0.94795,     0.94895,     0.94995,     0.95095,     0.95195,     0.95295,     0.95395,     0.95495,     0.95596,     0.95696,     0.95796,     0.95896,     0.95996,\n",
       "           0.96096,     0.96196,     0.96296,     0.96396,     0.96496,     0.96597,     0.96697,     0.96797,     0.96897,     0.96997,     0.97097,     0.97197,     0.97297,     0.97397,     0.97497,     0.97598,     0.97698,     0.97798,     0.97898,     0.97998,     0.98098,     0.98198,     0.98298,     0.98398,\n",
       "           0.98498,     0.98599,     0.98699,     0.98799,     0.98899,     0.98999,     0.99099,     0.99199,     0.99299,     0.99399,     0.99499,       0.996,       0.997,       0.998,       0.999,           1]), array([[    0.87975,     0.87975,     0.86709,     0.86709,     0.86709,     0.86709,     0.86709,     0.86709,     0.86076,     0.86076,     0.86076,     0.85443,     0.85443,     0.85443,     0.85443,     0.85443,      0.8481,      0.8481,      0.8481,      0.8481,      0.8481,      0.8481,      0.8481,\n",
       "             0.8481,      0.8481,      0.8481,      0.8442,     0.84177,     0.83943,      0.8354,     0.82911,     0.82911,     0.82911,     0.82911,     0.82911,     0.82911,     0.82911,     0.82911,     0.82911,     0.82911,     0.82911,     0.82911,     0.82911,     0.82911,     0.82911,     0.82911,\n",
       "            0.82278,     0.82278,     0.82278,     0.82278,     0.82278,     0.82278,     0.82278,     0.82278,     0.82278,     0.82278,     0.82278,     0.82278,     0.82253,     0.81883,     0.81646,     0.81646,     0.81646,     0.81646,     0.81646,     0.81646,     0.81646,     0.81646,     0.81646,\n",
       "            0.81646,     0.81646,     0.81646,     0.81646,     0.81646,     0.81646,     0.81646,     0.81646,     0.81646,     0.81646,     0.81646,     0.81646,     0.81646,     0.81646,     0.81646,     0.81646,     0.81646,     0.81646,     0.81646,     0.81646,     0.81646,     0.81646,     0.81646,\n",
       "            0.81378,     0.81066,     0.80836,     0.80623,      0.8041,      0.8038,      0.8038,      0.8038,      0.8038,      0.8038,      0.8038,      0.8038,      0.8038,      0.8038,      0.8038,      0.8038,      0.8038,      0.8038,      0.8038,      0.8038,      0.8038,      0.8038,      0.8038,\n",
       "             0.8038,      0.8038,      0.8038,      0.8038,      0.8038,      0.8038,      0.8038,      0.8038,      0.8038,      0.8038,      0.8038,     0.80362,      0.8028,     0.80198,     0.80116,     0.80034,     0.79952,      0.7987,     0.79788,     0.79747,     0.79747,     0.79747,     0.79747,\n",
       "            0.79747,     0.79747,     0.79377,     0.79114,     0.79114,     0.79114,     0.79114,     0.79114,     0.79114,     0.79114,     0.79114,     0.79114,     0.79114,     0.79114,     0.79114,     0.79114,     0.79114,     0.79114,     0.79114,     0.79114,     0.79114,     0.79114,     0.79114,\n",
       "            0.79114,     0.79114,     0.79114,     0.79114,     0.79114,     0.79114,     0.79114,     0.79114,     0.79114,     0.79114,     0.79067,     0.79004,     0.78941,     0.78877,     0.78814,     0.78751,     0.78687,     0.78624,     0.78561,     0.78497,     0.78481,     0.78481,     0.78481,\n",
       "            0.78481,     0.78481,     0.78481,     0.78297,     0.78091,     0.77885,     0.77848,     0.77848,     0.77848,      0.7745,     0.77189,     0.77151,     0.77112,     0.77073,     0.77035,     0.76996,     0.76957,     0.76919,      0.7688,     0.76841,     0.76803,     0.76764,     0.76725,\n",
       "            0.76686,     0.76648,     0.76609,     0.76582,     0.76037,     0.75929,     0.75906,     0.75883,      0.7586,     0.75837,     0.75814,     0.75791,     0.75769,     0.75746,     0.75723,       0.757,     0.75677,     0.75654,     0.75631,     0.75608,     0.75585,     0.75562,     0.75539,\n",
       "            0.75517,     0.75494,     0.75471,     0.75448,     0.75425,     0.75402,     0.75379,     0.75356,     0.75333,     0.75316,     0.75316,     0.75316,     0.75316,     0.75316,     0.75316,     0.75316,     0.75316,     0.75316,     0.75316,     0.75316,     0.75316,     0.75316,     0.75316,\n",
       "            0.75316,     0.75316,     0.75316,     0.75316,     0.75316,     0.75316,     0.75316,     0.75316,     0.75316,     0.75316,     0.75316,     0.75316,     0.75316,     0.75316,     0.75316,     0.75316,     0.75316,     0.75316,     0.75316,     0.75316,     0.75316,     0.75316,     0.75316,\n",
       "            0.75316,     0.75316,     0.75316,     0.75316,     0.75313,     0.75263,     0.75214,     0.75165,     0.75116,     0.75067,     0.75018,     0.74969,      0.7492,     0.74871,     0.74822,     0.74773,     0.74724,     0.74669,     0.74586,     0.74504,     0.74422,      0.7434,     0.74257,\n",
       "            0.74175,     0.74093,     0.73988,      0.7386,     0.73732,     0.73604,     0.73477,     0.73362,     0.73259,     0.73156,     0.73053,      0.7295,     0.72847,     0.72785,     0.72785,     0.72785,     0.72785,     0.72785,     0.72785,     0.72785,      0.7254,     0.72277,     0.72123,\n",
       "            0.72068,     0.72013,     0.71958,     0.71903,     0.71849,     0.71794,     0.71739,     0.71684,     0.71629,     0.71574,     0.71519,     0.71477,     0.71435,     0.71393,     0.71351,      0.7131,     0.71268,     0.71226,     0.71184,     0.71142,       0.711,     0.71058,     0.71016,\n",
       "            0.70974,     0.70932,      0.7089,     0.70886,     0.70886,     0.70886,     0.70886,     0.70886,     0.70886,     0.70886,     0.70886,     0.70886,     0.70886,     0.70886,     0.70886,     0.70886,     0.70886,     0.70886,     0.70886,     0.70886,     0.70886,     0.70866,     0.70832,\n",
       "            0.70798,     0.70764,      0.7073,     0.70696,     0.70662,     0.70628,     0.70594,      0.7056,     0.70527,     0.70493,     0.70459,     0.70425,     0.70391,     0.70357,     0.70323,     0.70289,     0.70255,     0.70165,     0.70071,     0.69977,     0.69883,     0.69789,     0.69695,\n",
       "            0.69604,     0.69522,      0.6944,     0.69358,     0.69276,     0.69194,     0.69112,     0.69031,      0.6894,     0.68838,     0.68737,     0.68636,     0.68535,     0.68433,     0.68347,     0.68313,      0.6828,     0.68246,     0.68213,     0.68179,     0.68146,     0.68112,     0.68079,\n",
       "            0.68045,     0.68011,     0.67978,     0.67944,     0.67911,     0.67877,     0.67844,      0.6781,     0.67777,     0.67743,     0.67685,     0.67582,     0.67478,     0.67375,     0.67272,     0.67169,     0.67059,     0.66927,     0.66794,     0.66662,     0.66529,     0.66374,     0.66189,\n",
       "            0.66005,     0.65819,     0.65495,     0.65188,     0.65159,     0.65131,     0.65102,     0.65073,     0.65045,     0.65016,     0.64987,     0.64959,      0.6493,     0.64901,     0.64873,     0.64844,     0.64815,     0.64787,     0.64758,     0.64729,       0.647,     0.64672,     0.64643,\n",
       "            0.64614,     0.64586,     0.64557,     0.63784,     0.63569,     0.63355,     0.63157,     0.62966,     0.62774,     0.62645,     0.62611,     0.62577,     0.62544,      0.6251,     0.62476,     0.62442,     0.62409,     0.62375,     0.62341,     0.62307,     0.62274,      0.6224,     0.62206,\n",
       "            0.62172,     0.62138,     0.62105,     0.62071,     0.62037,     0.61685,     0.61374,     0.61333,     0.61293,     0.61252,     0.61211,      0.6117,     0.61129,     0.61088,     0.61047,     0.61006,     0.60965,     0.60924,     0.60883,     0.60842,     0.60801,      0.6076,     0.60715,\n",
       "             0.6067,     0.60624,     0.60579,     0.60534,     0.60488,     0.60443,     0.60398,     0.60352,     0.60307,     0.60261,     0.60216,     0.60171,     0.60127,     0.60127,     0.60127,     0.60127,     0.60127,     0.60127,     0.60127,     0.60127,     0.59997,     0.59778,     0.59559,\n",
       "             0.5948,     0.59461,     0.59443,     0.59424,     0.59405,     0.59386,     0.59367,     0.59348,     0.59329,      0.5931,     0.59291,     0.59272,     0.59253,     0.59235,     0.59216,     0.59197,     0.59178,     0.59159,      0.5914,     0.59121,     0.59102,     0.59083,     0.59064,\n",
       "            0.59045,     0.59027,     0.59008,     0.58989,      0.5897,     0.58951,     0.58932,     0.58913,     0.58894,     0.58875,     0.58861,     0.58861,     0.58861,     0.58861,     0.58794,     0.58705,     0.58617,     0.58528,      0.5844,     0.58351,     0.58263,     0.58132,     0.57974,\n",
       "            0.57815,     0.57657,     0.57569,     0.57526,     0.57483,     0.57441,     0.57398,     0.57355,     0.57313,      0.5727,     0.57227,     0.57184,     0.57142,     0.57099,     0.57056,     0.57014,     0.56971,     0.56962,     0.56747,     0.56519,      0.5622,     0.55693,     0.55675,\n",
       "            0.55657,     0.55639,     0.55621,     0.55603,     0.55585,     0.55566,     0.55548,      0.5553,     0.55512,     0.55494,     0.55476,     0.55458,      0.5544,     0.55422,     0.55404,     0.55386,     0.55368,      0.5535,     0.55332,     0.55313,     0.55295,     0.55277,     0.55259,\n",
       "            0.55241,     0.55223,     0.55205,     0.55187,     0.55169,     0.55151,     0.55133,     0.55115,     0.55097,     0.55078,     0.55047,     0.54945,     0.54843,     0.54741,     0.54639,     0.54537,     0.54435,     0.54368,     0.54303,     0.54237,     0.54172,     0.54106,     0.54041,\n",
       "            0.53976,      0.5391,     0.53845,     0.53778,     0.53706,     0.53635,     0.53563,     0.53492,      0.5342,     0.53349,     0.53277,     0.53206,     0.53104,     0.52962,     0.52819,     0.52676,     0.52534,     0.52464,     0.52396,     0.52327,     0.52259,      0.5219,     0.52122,\n",
       "            0.52053,     0.51985,     0.51916,      0.5123,     0.51161,     0.51093,     0.51024,     0.50956,     0.50887,     0.50819,      0.5075,     0.50682,     0.50574,     0.50367,      0.5016,     0.49994,     0.49967,     0.49941,     0.49914,     0.49887,      0.4986,     0.49834,     0.49807,\n",
       "             0.4978,     0.49753,     0.49727,       0.497,     0.49673,     0.49646,      0.4962,     0.49593,     0.49566,     0.49539,     0.49513,     0.49486,     0.49459,     0.49433,     0.49406,     0.49379,     0.49245,     0.49023,     0.48802,     0.48563,     0.48317,     0.48098,     0.48071,\n",
       "            0.48045,     0.48018,     0.47992,     0.47965,     0.47939,     0.47912,     0.47885,     0.47859,     0.47832,     0.47806,     0.47779,     0.47753,     0.47726,     0.47699,     0.47673,     0.47646,      0.4762,     0.47593,     0.47567,      0.4754,     0.47513,     0.47487,     0.47439,\n",
       "            0.47342,     0.47245,     0.47148,      0.4705,     0.46953,     0.46856,     0.46762,     0.46668,     0.46575,     0.46481,     0.46387,     0.46294,       0.462,     0.46084,     0.45968,     0.45853,     0.45737,     0.45621,     0.45137,     0.44898,     0.44846,     0.44794,     0.44743,\n",
       "            0.44691,     0.44639,     0.44587,     0.44535,     0.44483,     0.44432,      0.4438,     0.44328,     0.44235,     0.44108,      0.4398,     0.43852,     0.43724,     0.43375,     0.42966,     0.42753,     0.42539,     0.42356,     0.42223,     0.42091,     0.41958,     0.41825,     0.41666,\n",
       "             0.4149,     0.41313,     0.41138,     0.41096,     0.41054,     0.41012,      0.4097,     0.40928,     0.40886,     0.40844,     0.40802,      0.4076,     0.40718,     0.40676,     0.40634,     0.40592,      0.4055,     0.40508,     0.40427,     0.40346,     0.40265,     0.40183,     0.40102,\n",
       "            0.40021,     0.39939,     0.39778,     0.39275,     0.39077,     0.38901,     0.38726,     0.37956,     0.37675,     0.37394,      0.3724,     0.37116,     0.36991,     0.36866,     0.36742,     0.36613,     0.36484,     0.36354,     0.36224,     0.36094,     0.35987,     0.35883,     0.35779,\n",
       "            0.35675,     0.35571,     0.35466,     0.34982,     0.34159,     0.34086,     0.34013,      0.3394,     0.33867,     0.33794,     0.33721,     0.33648,     0.33574,     0.33464,     0.33328,     0.33191,     0.33055,     0.32918,     0.32836,     0.32756,     0.32676,     0.32596,     0.32517,\n",
       "            0.32437,     0.32357,     0.32257,      0.3155,     0.31369,     0.31188,     0.31008,     0.30856,     0.30704,     0.30552,       0.304,     0.30338,      0.3029,     0.30242,     0.30194,     0.30146,     0.30098,     0.30049,     0.30001,     0.29953,     0.29905,     0.29857,     0.29809,\n",
       "            0.29761,     0.29098,     0.28622,     0.27802,     0.27676,     0.27551,     0.27426,       0.273,     0.27024,     0.26402,     0.25685,      0.2517,     0.24888,     0.24005,     0.23613,     0.23261,     0.22947,     0.22443,     0.22014,     0.21779,     0.21544,     0.20742,     0.20423,\n",
       "            0.19941,     0.19369,     0.18907,     0.18528,     0.17617,     0.16365,     0.16137,     0.15909,     0.15655,     0.15385,     0.15092,     0.14742,     0.13669,       0.129,     0.12431,      0.1205,     0.11174,     0.10103,    0.088397,    0.086821,    0.085245,     0.08367,    0.082102,\n",
       "           0.080593,    0.079083,    0.077574,    0.076064,    0.067519,    0.063945,    0.057142,    0.054944,    0.052878,    0.050811,    0.049412,    0.048076,    0.046741,    0.045405,    0.042981,    0.037625,    0.036585,    0.035545,    0.034505,    0.033465,    0.032425,    0.031445,    0.030642,\n",
       "            0.02984,    0.029037,    0.028235,    0.027432,     0.02663,    0.025827,    0.024698,    0.022994,    0.021291,    0.019587,    0.012275,    0.011192,     0.01011,    0.009027,   0.0079444,   0.0068619,           0,           0,           0,           0,           0,           0,           0,\n",
       "                  0,           0,           0,           0,           0,           0,           0,           0,           0,           0,           0,           0,           0,           0,           0,           0,           0,           0,           0,           0,           0,           0,           0,\n",
       "                  0,           0,           0,           0,           0,           0,           0,           0,           0,           0,           0]]), 'Confidence', 'Recall']]\n",
       "fitness: 0.5914349986484455\n",
       "keys: ['metrics/precision(B)', 'metrics/recall(B)', 'metrics/mAP50(B)', 'metrics/mAP50-95(B)']\n",
       "maps: array([     0.5625])\n",
       "names: {0: 'number plate'}\n",
       "plot: True\n",
       "results_dict: {'metrics/precision(B)': 0.9121933667513112, 'metrics/recall(B)': 0.7911392405063291, 'metrics/mAP50(B)': 0.8518320684969276, 'metrics/mAP50-95(B)': 0.562501990887503, 'fitness': 0.5914349986484455}\n",
       "save_dir: WindowsPath('runs/detect/train2')\n",
       "speed: {'preprocess': 1.8812755102883283, 'inference': 79.93552448986483, 'loss': 5.10204996799632e-05, 'postprocess': 0.4312510203334921}\n",
       "task: 'detect'"
      ]
     },
     "execution_count": 24,
     "metadata": {},
     "output_type": "execute_result"
    }
   ],
   "source": [
    "# Train the model using your dataset and YAML file\n",
    "model.train(data='number-plate.yaml', epochs=50, imgsz=640)"
   ]
  },
  {
   "cell_type": "code",
   "execution_count": null,
   "id": "736be4d4-6584-4613-acb9-f93428ddca8d",
   "metadata": {},
   "outputs": [],
   "source": []
  }
 ],
 "metadata": {
  "kernelspec": {
   "display_name": "Python [conda env:base] *",
   "language": "python",
   "name": "conda-base-py"
  },
  "language_info": {
   "codemirror_mode": {
    "name": "ipython",
    "version": 3
   },
   "file_extension": ".py",
   "mimetype": "text/x-python",
   "name": "python",
   "nbconvert_exporter": "python",
   "pygments_lexer": "ipython3",
   "version": "3.12.7"
  }
 },
 "nbformat": 4,
 "nbformat_minor": 5
}
